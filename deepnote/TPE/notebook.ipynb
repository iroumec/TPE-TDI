{
  "cells": [
    {
      "cell_type": "markdown",
      "metadata": {
        "formattedRanges": [],
        "cell_id": "6a3ab5f1ec254b9a88a56bf7ecd41f56",
        "deepnote_cell_type": "text-cell-h1"
      },
      "source": "# Introducción.",
      "block_group": "f3fdb083e24e416b807019ed082bd639"
    },
    {
      "cell_type": "markdown",
      "metadata": {
        "formattedRanges": [
          {
            "type": "marks",
            "marks": {
              "italic": true
            },
            "toCodePoint": 71,
            "fromCodePoint": 63
          }
        ],
        "cell_id": "92323b5b599b4c38b8dd78cdddcdb0ef",
        "deepnote_cell_type": "text-cell-p"
      },
      "source": "La cátedra de Teoría de la Información ha proporcionado cuatro datasets analizando algo tan simple —y, paradójicamente, tan geopolíticamente condicionado por mapas y climas— como las temperaturas promedio de tres ciudades con condiciones meteorológicas (y políticas) bien distintas.",
      "block_group": "dcaf6d817e4243079fb91f88a0acc337"
    },
    {
      "cell_type": "markdown",
      "metadata": {
        "formattedRanges": [],
        "cell_id": "2d827ef849a74fe7a27342531232d4c9",
        "deepnote_cell_type": "text-cell-p"
      },
      "source": "Previo al análisis de los datos, se realizará la importación de las librerías a usar, la carga de los datos y su limpieza.",
      "block_group": "149d5d3add094e569e5e8af8d6965850"
    },
    {
      "cell_type": "markdown",
      "metadata": {
        "formattedRanges": [],
        "cell_id": "a50ca2405a7343df86fa52a86f961398",
        "deepnote_cell_type": "text-cell-p"
      },
      "source": "Las tres ciudades cuyas temperaturas se analizarán se introducen por la cátedra de la siguiente manera:",
      "block_group": "f55ce6b057974e85ab2f4ba817831ffd"
    },
    {
      "cell_type": "markdown",
      "metadata": {
        "formattedRanges": [
          {
            "type": "marks",
            "marks": {
              "italic": true
            },
            "toCodePoint": 75,
            "fromCodePoint": 7
          }
        ],
        "cell_id": "3e56952935f642c4b80ab8d121548f65",
        "deepnote_cell_type": "text-cell-bullet"
      },
      "source": "- Quito: donde la temperatura no cambia ni aunque recen diez climas distintos.\r",
      "block_group": "31e528bec19c410d95b40f27f4802c58"
    },
    {
      "cell_type": "markdown",
      "metadata": {
        "formattedRanges": [
          {
            "type": "marks",
            "marks": {
              "italic": true
            },
            "toCodePoint": 76,
            "fromCodePoint": 11
          }
        ],
        "cell_id": "ad26e047cccb46d9ac166365522c2c83",
        "deepnote_cell_type": "text-cell-bullet"
      },
      "source": "- Melbourne: donde podés experimentar las cuatro estaciones antes del almuerzo.\r",
      "block_group": "d26b204b54434200aef0407160a5993e"
    },
    {
      "cell_type": "markdown",
      "metadata": {
        "formattedRanges": [
          {
            "type": "marks",
            "marks": {
              "italic": true
            },
            "toCodePoint": 72,
            "fromCodePoint": 6
          }
        ],
        "cell_id": "f45d18dc190b4bca8ced3802ba8d0309",
        "deepnote_cell_type": "text-cell-bullet"
      },
      "source": "- Oslo: donde el clima no se decide si quiere ser Siberia o un spa nórdico.",
      "block_group": "ec59b78e7b4849cda5efb94041e4318c"
    },
    {
      "cell_type": "markdown",
      "metadata": {
        "formattedRanges": [],
        "cell_id": "4e0943060eb040f2bfa024bca3d0da18",
        "deepnote_cell_type": "text-cell-p"
      },
      "source": "Brindando un poco de contexto geográfico, Quito es la capital de Ecuador, Melbourne es una ciudad de Australia y Oslo es la capital y ciudad más poblada de Noruega. Para poder tener en claro la distancia entre estos países, se invita a observar el siguiente mapa, en el que se encuentran coloreadas los tres países a analizar:",
      "block_group": "6d3ff9c7c9cb473ebd5d78cda8099af5"
    },
    {
      "cell_type": "markdown",
      "metadata": {
        "deepnote_img_src": "images/mapa.png",
        "cell_id": "6939a7b8989448168d6d534f05578783",
        "deepnote_cell_type": "image"
      },
      "source": "<img src=\"images/mapa.png\" width=\"\" align=\"\" />",
      "block_group": "5544d3c685024cd2bc1f581e1e76e982"
    },
    {
      "cell_type": "markdown",
      "metadata": {
        "formattedRanges": [],
        "cell_id": "9c556a35808346b9a3198934e01df922",
        "deepnote_cell_type": "text-cell-p"
      },
      "source": "Habiendo introducido la tarea asignada y un poco de contexto geográfico, se realiza la tarea de preparar todo lo necesario para analizar los datos y resolver las consignas propuestas.",
      "block_group": "41bd51b5cac94268b48b0d4b6776ac75"
    },
    {
      "cell_type": "markdown",
      "metadata": {
        "formattedRanges": [],
        "cell_id": "dac4fe02f1ca4fedb11a65647375f649",
        "deepnote_cell_type": "text-cell-h2"
      },
      "source": "## Importación de Librerías.",
      "block_group": "d22bbbe9dc52434499e604687f942326"
    },
    {
      "cell_type": "markdown",
      "metadata": {
        "formattedRanges": [],
        "cell_id": "158f849b9495436aa7ac321230b83be5",
        "deepnote_cell_type": "text-cell-p"
      },
      "source": "Se importan las librerías necesarias que se utilizarán a lo largo del trabajo:",
      "block_group": "bcf2507d61344dcea9e265ac8faf017e"
    },
    {
      "cell_type": "code",
      "metadata": {
        "source_hash": "deeae87e",
        "execution_start": 1750015069410,
        "execution_millis": 4347,
        "execution_context_id": "df393179-1241-4d96-a329-c14b453c2db1",
        "cell_id": "b40004ac27234b11be0cb0b1cb14e6a3",
        "deepnote_cell_type": "code"
      },
      "source": "# Utilizada para la obtención de valores aleatorios.\nimport random\n\n# Utilizada en la lectura de los datos.\nimport pandas as pd\n\n# Utilizada en la creación de matrices.\nimport numpy as np\n\n# Utilizadas para la visualización de los datos.\nimport plotly.express as px\nimport matplotlib.pyplot as plt\nimport seaborn as sns",
      "block_group": "cf4b49a9a0b048c9a68f27e08cbd5d3c",
      "execution_count": 1,
      "outputs": [],
      "outputs_reference": null,
      "content_dependencies": null
    },
    {
      "cell_type": "markdown",
      "metadata": {
        "formattedRanges": [],
        "cell_id": "e39922593991418f8d34449364c22943",
        "deepnote_cell_type": "text-cell-h2"
      },
      "source": "## Carga de los Datos.",
      "block_group": "097a695c8a9f4f73ad484b9c98025785"
    },
    {
      "cell_type": "markdown",
      "metadata": {
        "formattedRanges": [
          {
            "type": "marks",
            "marks": {
              "italic": true
            },
            "toCodePoint": 45,
            "fromCodePoint": 37
          }
        ],
        "cell_id": "6c3e898f6c754fa48ffd5b186cd0615a",
        "deepnote_cell_type": "text-cell-p"
      },
      "source": "Se realiza la lectura y carga de los datasets:",
      "block_group": "e69cbb86680d479b879e68c2d5e8b88a"
    },
    {
      "cell_type": "code",
      "metadata": {
        "source_hash": "f60b7bad",
        "execution_start": 1750015073815,
        "execution_millis": 639,
        "execution_context_id": "df393179-1241-4d96-a329-c14b453c2db1",
        "cell_id": "c895065e46da492cb42d203d2244fdad",
        "deepnote_cell_type": "code"
      },
      "source": "# Datasets correspondientes a las temperaturas de Quito, Melbourne y Oslo, mencionados en la explicación.\ndataset_raw_quito=pd.read_csv(\"temperature_Quito_celsius.csv\")\ndataset_raw_melbourne=pd.read_csv(\"temperature_Melbourne_celsius.csv\")\ndataset_raw_oslo=pd.read_csv(\"temperature_Oslo_celsius.csv\")\n\n# (Este dataset será usado e introducido recién en la parte 4).\ndataset_raw_melbourne_ruidoso = pd.read_csv(\"temperature_Melbourne_celsius_ruidoso.csv\")",
      "block_group": "7185e9c67d474bd1bb329b58250e9e57",
      "execution_count": 2,
      "outputs": [],
      "outputs_reference": null,
      "content_dependencies": null
    },
    {
      "cell_type": "markdown",
      "metadata": {
        "formattedRanges": [],
        "cell_id": "36dff2ec391442c6a659f1e12f0e8de9",
        "deepnote_cell_type": "text-cell-h2"
      },
      "source": "## Limpieza de los Datos.",
      "block_group": "f120efa858ce473589bf4559639efe95"
    },
    {
      "cell_type": "markdown",
      "metadata": {
        "formattedRanges": [
          {
            "type": "marks",
            "marks": {
              "italic": true
            },
            "toCodePoint": 25,
            "fromCodePoint": 17
          },
          {
            "type": "marks",
            "marks": {
              "italic": true
            },
            "toCodePoint": 41,
            "fromCodePoint": 33
          }
        ],
        "cell_id": "09382de5b1c2415b8395d89a52a3382b",
        "deepnote_cell_type": "text-cell-p"
      },
      "source": "Se identificaron outliers en los datasets de Melbourne y Oslo, al igual que en el de Melbourne ruidoso (este último será introducido y utilizado recién en la parte 4).",
      "block_group": "d20e75d33745489eb1c3dfc0b671cea7"
    },
    {
      "cell_type": "code",
      "metadata": {
        "source_hash": "6907e13e",
        "execution_start": 1750015074525,
        "execution_millis": 760,
        "execution_context_id": "df393179-1241-4d96-a329-c14b453c2db1",
        "cell_id": "0a6075f4eac04b02821af6dc72458381",
        "deepnote_cell_type": "code"
      },
      "source": "def mostrar_boxplot(dataset, x, title):\n    plt.figure(figsize=(12, 4))\n    sns.boxplot(x=dataset[x], color='skyblue', width=0.6)\n    plt.title(title, fontsize=14, fontweight='bold')\n    plt.xlabel(x, fontsize=12)\n    sns.despine(offset=0, trim=True)\n    plt.show()\n\nmostrar_boxplot(dataset_raw_melbourne, \"AvgTemperature\", \"Melbourne\")\nmostrar_boxplot(dataset_raw_oslo, \"AvgTemperature\", \"Oslo\")\nmostrar_boxplot(dataset_raw_melbourne_ruidoso, \"AvgTemperature\", \"Melbourne ruidoso\")",
      "block_group": "9aab90af84cb4d2da75ea7b8f450b011",
      "execution_count": 3,
      "outputs": [
        {
          "data": {
            "text/plain": "<Figure size 1200x400 with 1 Axes>",
            "image/png": "[encoded data removed]"
          },
          "metadata": {
            "image/png": {
              "width": 954,
              "height": 398
            }
          },
          "output_type": "display_data"
        },
        {
          "data": {
            "text/plain": "<Figure size 1200x400 with 1 Axes>",
            "image/png": "[encoded data removed]"
          },
          "metadata": {
            "image/png": {
              "width": 954,
              "height": 398
            }
          },
          "output_type": "display_data"
        },
        {
          "data": {
            "text/plain": "<Figure size 1200x400 with 1 Axes>",
            "image/png": "[encoded data removed]"
          },
          "metadata": {
            "image/png": {
              "width": 959,
              "height": 398
            }
          },
          "output_type": "display_data"
        }
      ],
      "outputs_reference": null,
      "content_dependencies": null
    },
    {
      "cell_type": "markdown",
      "metadata": {
        "formattedRanges": [
          {
            "type": "marks",
            "marks": {
              "italic": true
            },
            "toCodePoint": 28,
            "fromCodePoint": 20
          },
          {
            "type": "marks",
            "marks": {
              "italic": true
            },
            "toCodePoint": 54,
            "fromCodePoint": 46
          },
          {
            "type": "marks",
            "marks": {
              "italic": true
            },
            "toCodePoint": 130,
            "fromCodePoint": 122
          },
          {
            "type": "marks",
            "marks": {
              "italic": true
            },
            "toCodePoint": 184,
            "fromCodePoint": 177
          },
          {
            "type": "marks",
            "marks": {
              "italic": true
            },
            "toCodePoint": 353,
            "fromCodePoint": 346
          }
        ],
        "cell_id": "5c7862f3ac774470a4f591c08f8f0071",
        "deepnote_cell_type": "text-cell-p"
      },
      "source": "En los dos primeros datasets, el valor de los outliers es el mismo: -73. Por otro lado, en el de Melbourne ruidoso, estos outliers varían entre -77.0 y -68.0. A destacar, en el dataset de Oslo figuran otros datos inferiores al bigote inferior de la caja, sin embargo, estos son datos inusuales, pero reales. Por consiguiente, permanecieron en el dataset.",
      "block_group": "59378016cb394cc39c966c37b3b65784"
    },
    {
      "cell_type": "markdown",
      "metadata": {
        "formattedRanges": [],
        "cell_id": "8f9a7a88db6146fdb7875cd0ccec81ff",
        "deepnote_cell_type": "text-cell-p"
      },
      "source": "Al momento de manejar estos datos, se evaluaron distintas alternativas, tales como:",
      "block_group": "7e9d6f45d6d24c458529e096a1ac4e49"
    },
    {
      "cell_type": "markdown",
      "metadata": {
        "formattedRanges": [
          {
            "type": "marks",
            "marks": {
              "italic": true
            },
            "toCodePoint": 39,
            "fromCodePoint": 32
          },
          {
            "type": "marks",
            "marks": {
              "italic": true
            },
            "toCodePoint": 187,
            "fromCodePoint": 179
          }
        ],
        "cell_id": "88340b3e4ad4413bb5f65ec769f1555d",
        "deepnote_cell_type": "text-cell-bullet"
      },
      "source": "- Eliminar todas las entradas del dataset en las que aparezca dicha temperatura. Sin embargo, esto implicaría, para mantener consistencia, eliminar dichos días también de los demás datasets. Y, al estar realizadas las mediciones por días, perderlas dificultaría la toma de estadísticas entre años.",
      "block_group": "3419175e248c4001ae8c4ee43d410f5c"
    },
    {
      "cell_type": "markdown",
      "metadata": {
        "formattedRanges": [
          {
            "type": "marks",
            "marks": {
              "italic": true
            },
            "toCodePoint": 110,
            "fromCodePoint": 103
          }
        ],
        "cell_id": "b7cb1f3f062a423ca63518cd021581ed",
        "deepnote_cell_type": "text-cell-bullet"
      },
      "source": "- Imputar los datos, a partir de sus datos vecinos. En la mayoría de las ocasiones en las que aparece un outlier, lo hace entre dos valores cercanos entre sí, lo que facilite poder tomar una estimación de qué valor tendría que ocupar dicho lugar.",
      "block_group": "86d34d56432e49dd8cee7abacee79f4b"
    },
    {
      "cell_type": "markdown",
      "metadata": {
        "formattedRanges": [
          {
            "type": "marks",
            "marks": {
              "italic": true
            },
            "toCodePoint": 61,
            "fromCodePoint": 54
          }
        ],
        "cell_id": "590c23540b1e43dc9021ea8338283f93",
        "deepnote_cell_type": "text-cell-p"
      },
      "source": "Se presenta a continuación una secuencia de datos del dataset de Melbourne en la que puede presenciarse lo mencionado:",
      "block_group": "e6678d7bdd0a4502b45255ef82f5b952"
    },
    {
      "cell_type": "code",
      "metadata": {
        "source_hash": "5317f5ac",
        "execution_start": 1750015075358,
        "execution_millis": 0,
        "execution_context_id": "df393179-1241-4d96-a329-c14b453c2db1",
        "cell_id": "a09e56b89e6c40f8bdda5ae10db6d3ef",
        "deepnote_cell_type": "code"
      },
      "source": "print(dataset_raw_melbourne.loc[[1450, 1451, 1452, 1453, 1454, 1455, 1456, 1457, 1458, 1459, 1460, 1461, 1462, 1463, 1464, 1465, 1466, 1467, 1468, 1469, 1470, 1471]])",
      "block_group": "b746b7f1b99a40abad83e101feafa7b7",
      "execution_count": 4,
      "outputs": [
        {
          "name": "stdout",
          "text": "      AvgTemperature\n1450            20.0\n1451            22.0\n1452            22.0\n1453           -73.0\n1454           -73.0\n1455            22.0\n1456            22.0\n1457            23.0\n1458            24.0\n1459           -73.0\n1460           -73.0\n1461            23.0\n1462            23.0\n1463            25.0\n1464            26.0\n1465            26.0\n1466            25.0\n1467            25.0\n1468            23.0\n1469            23.0\n1470           -73.0\n1471            27.0\n",
          "output_type": "stream"
        }
      ],
      "outputs_reference": null,
      "content_dependencies": null
    },
    {
      "cell_type": "markdown",
      "metadata": {
        "formattedRanges": [
          {
            "type": "marks",
            "marks": {
              "italic": true
            },
            "toCodePoint": 81,
            "fromCodePoint": 74
          }
        ],
        "cell_id": "03047530ea944de29d2e0a0211eaf5eb",
        "deepnote_cell_type": "text-cell-p"
      },
      "source": "Para imputar dichos datos, se obtuvieron sus correspondientes índices del dataset:",
      "block_group": "dc3baa1be6224426b15537c9cb69f96f"
    },
    {
      "cell_type": "code",
      "metadata": {
        "source_hash": "667c1036",
        "execution_start": 1750015075429,
        "execution_millis": 0,
        "execution_context_id": "df393179-1241-4d96-a329-c14b453c2db1",
        "cell_id": "eee2faaa02d24311a3b9170ae691ae5f",
        "deepnote_cell_type": "code"
      },
      "source": "def get_indexes_outliers(dataset, min_range, max_range=None):\n\n    # Si no se especifica un max_range, se usa un valor exacto.\n    if max_range is None:\n        return list(dataset[dataset[\"AvgTemperature\"] == min_range].index)\n    \n    # Se busca por rangos.\n    return list(dataset[(dataset[\"AvgTemperature\"] >= min_range) & \n                       (dataset[\"AvgTemperature\"] <= max_range)].index)\n\ndatos_basura_melbourne = get_indexes_outliers(dataset_raw_melbourne, -73.0)\ndatos_basura_oslo = get_indexes_outliers(dataset_raw_oslo, -73.0)\ndatos_basura_melbourne_ruidoso = get_indexes_outliers(dataset_raw_melbourne_ruidoso, -77.0, -68.0)\n\nprint(\"Indices de datos basura: \")\nprint(datos_basura_melbourne)\nprint(datos_basura_oslo)\nprint(datos_basura_melbourne_ruidoso)",
      "block_group": "fe7dbab7cd744e619bd9ebe4c7b43186",
      "execution_count": 5,
      "outputs": [
        {
          "name": "stdout",
          "text": "Indices de datos basura: \n[1453, 1454, 1459, 1460, 1470, 2246, 2725, 2726, 2727, 2728, 2806, 2981, 3187, 4622, 4790, 5015, 5212]\n[1453, 1454, 1459, 1460, 1470, 2725, 2726, 2727, 2728, 4622, 4723, 5212]\n[1453, 1454, 1459, 1460, 1470, 2246, 2725, 2726, 2727, 2728, 2806, 2981, 3187, 4622, 4790, 5015, 5212]\n",
          "output_type": "stream"
        }
      ],
      "outputs_reference": null,
      "content_dependencies": null
    },
    {
      "cell_type": "markdown",
      "metadata": {
        "formattedRanges": [
          {
            "type": "marks",
            "marks": {
              "italic": true
            },
            "toCodePoint": 175,
            "fromCodePoint": 168
          }
        ],
        "cell_id": "76d622f684c04f6ca854181841d6a96f",
        "deepnote_cell_type": "text-cell-p"
      },
      "source": "Utilizando los anteriores índices, se completa el dato a partir de los datos anteriores, realizando una imputación por media móvil de orden 5 (es decir, se remplaza el outlier por el promedio de los cinco datos anteriores):",
      "block_group": "e1169d190d674563b644104a84b02bea"
    },
    {
      "cell_type": "code",
      "metadata": {
        "source_hash": "172a6417",
        "execution_start": 1750015075499,
        "execution_millis": 0,
        "execution_context_id": "df393179-1241-4d96-a329-c14b453c2db1",
        "cell_id": "28a444818584483889dc4009948f882b",
        "deepnote_cell_type": "code"
      },
      "source": "def imputar_dataset(indexes, dataset, orden=5):\n    # Se realiza una copia para no modificar el dataset original.\n    out = dataset.copy()\n    for index in indexes:\n        if index >= orden:\n            out[\"AvgTemperature\"][index] = round(out[\"AvgTemperature\"][index - orden:index].mean())\n    return out\n\ncleaned_dataset_quito = dataset_raw_quito.copy() # Se redefine el nombre para mayor claridad.\ncleaned_dataset_melbourne = imputar_dataset(datos_basura_melbourne, dataset_raw_melbourne)\ncleaned_dataset_oslo = imputar_dataset(datos_basura_oslo, dataset_raw_oslo)\ncleaned_dataset_melbourne_ruidoso = imputar_dataset(datos_basura_melbourne_ruidoso, dataset_raw_melbourne_ruidoso)",
      "block_group": "ec7178087b424beeb3a80f68b0e7f8b9",
      "execution_count": 6,
      "outputs": [],
      "outputs_reference": null,
      "content_dependencies": null
    },
    {
      "cell_type": "markdown",
      "metadata": {
        "formattedRanges": [
          {
            "type": "marks",
            "marks": {
              "italic": true
            },
            "toCodePoint": 51,
            "fromCodePoint": 43
          }
        ],
        "cell_id": "269faec9cb6c4027bbcdc06e389c6cc2",
        "deepnote_cell_type": "text-cell-p"
      },
      "source": "A continuación, se grafican nuevamente los boxplots con la finalidad de mostrar que los datos fueron efectivamente imputados:",
      "block_group": "c6d706d2c79247b196c89a625aba6361"
    },
    {
      "cell_type": "code",
      "metadata": {
        "source_hash": "7753d74b",
        "execution_start": 1750015075566,
        "execution_millis": 763,
        "execution_context_id": "df393179-1241-4d96-a329-c14b453c2db1",
        "cell_id": "afc19269a2514873b13a321f24cbb5f2",
        "deepnote_cell_type": "code"
      },
      "source": "# Se observan nuevamente los boxplots con la finalidad de corroborar la limpieza de los datos.\nmostrar_boxplot(cleaned_dataset_melbourne, \"AvgTemperature\", \"Melbourne\")\nmostrar_boxplot(cleaned_dataset_oslo, \"AvgTemperature\", \"Oslo\")\nmostrar_boxplot(cleaned_dataset_melbourne_ruidoso, \"AvgTemperature\", \"Melbourne ruidoso\")",
      "block_group": "7888b7f9fe1f4f5c816182e40bf728a7",
      "execution_count": 7,
      "outputs": [
        {
          "data": {
            "text/plain": "<Figure size 1200x400 with 1 Axes>",
            "image/png": "[encoded data removed]"
          },
          "metadata": {
            "image/png": {
              "width": 954,
              "height": 398
            }
          },
          "output_type": "display_data"
        },
        {
          "data": {
            "text/plain": "<Figure size 1200x400 with 1 Axes>",
            "image/png": "[encoded data removed]"
          },
          "metadata": {
            "image/png": {
              "width": 954,
              "height": 398
            }
          },
          "output_type": "display_data"
        },
        {
          "data": {
            "text/plain": "<Figure size 1200x400 with 1 Axes>",
            "image/png": "[encoded data removed]"
          },
          "metadata": {
            "image/png": {
              "width": 954,
              "height": 398
            }
          },
          "output_type": "display_data"
        }
      ],
      "outputs_reference": null,
      "content_dependencies": null
    },
    {
      "cell_type": "markdown",
      "metadata": {
        "formattedRanges": [],
        "cell_id": "182bc54484894d739f29ff1f18253990",
        "deepnote_cell_type": "text-cell-p"
      },
      "source": "Habiendo comprobado que los datos están limpios, se prosiguió con la resolución del trabajo práctico.",
      "block_group": "da3da4e619124517bcfd51142cb22114"
    },
    {
      "cell_type": "markdown",
      "metadata": {
        "cell_id": "fb0110e27f8f4019a3e6bb525eedf471",
        "deepnote_cell_type": "markdown"
      },
      "source": "# Parte 1: Estadísticas para ingenieros que miran el cielo.",
      "block_group": "baff9c13d5eb494cbf6be9dbfe055c60"
    },
    {
      "cell_type": "markdown",
      "metadata": {
        "cell_id": "9a28da96f7764f5fba436bd80ba1c85c",
        "deepnote_cell_type": "markdown"
      },
      "source": "Dadas las señales de temperaturas diarias registradas durante cierto periodo en las tres ciudades anteriormente mencionadas, expresadas como valores enteros, en °C (grados centígrados), se pide:",
      "block_group": "0efa2e9bf51544f682fe0585186bb7c3"
    },
    {
      "cell_type": "markdown",
      "metadata": {
        "formattedRanges": [],
        "cell_id": "f5977afbc4674f9fac0a39edc009b959",
        "deepnote_cell_type": "text-cell-h2"
      },
      "source": "## 1.1 Calcular la temperatura promedio y la desviación estándar para cada señal Si y analizar cómo se comportan estadísticamente.",
      "block_group": "7780da988c16427f8d4872f664ee2d99"
    },
    {
      "cell_type": "markdown",
      "metadata": {
        "formattedRanges": [],
        "cell_id": "8c60ec6ad53c452697e0764b93259672",
        "deepnote_cell_type": "text-cell-p"
      },
      "source": "Se realiza el cálculo de los promedios de las tres ciudades:",
      "block_group": "7b9b739b207442d1b46f368b4e676be6"
    },
    {
      "cell_type": "code",
      "metadata": {
        "source_hash": "859a1779",
        "execution_start": 1750015076385,
        "execution_millis": 1,
        "execution_context_id": "df393179-1241-4d96-a329-c14b453c2db1",
        "cell_id": "b2d69cb5073844b3b8474cc575fc1611",
        "deepnote_cell_type": "code"
      },
      "source": "def calcular_promedio(dataset):\n    suma = 0\n    for temperature in dataset[\"AvgTemperature\"]:\n        suma = suma + temperature\n    return suma / len(dataset[\"AvgTemperature\"])\n\npromedio_quito = calcular_promedio(cleaned_dataset_quito)\npromedio_melbourne = calcular_promedio(cleaned_dataset_melbourne)\npromedio_oslo = calcular_promedio(cleaned_dataset_oslo)",
      "block_group": "e22dfb52a17642a1a3ec12c4193b3c87",
      "execution_count": 8,
      "outputs": [],
      "outputs_reference": null,
      "content_dependencies": null
    },
    {
      "cell_type": "markdown",
      "metadata": {
        "formattedRanges": [],
        "cell_id": "5eba423f3cc64ef2b432aa69aef46d6d",
        "deepnote_cell_type": "text-cell-p"
      },
      "source": "Y se realiza el cálculo de sus desviaciones estándar:",
      "block_group": "d1bbe6988eac4ddab0a511103fcbb773"
    },
    {
      "cell_type": "code",
      "metadata": {
        "source_hash": "1a8335ee",
        "execution_start": 1750015076452,
        "execution_millis": 0,
        "execution_context_id": "df393179-1241-4d96-a329-c14b453c2db1",
        "cell_id": "ada0ed1dc03545949e4156ce01f7cffa",
        "deepnote_cell_type": "code"
      },
      "source": "def calcular_desvio_estandar(dataset, promedio):\n    suma = 0\n    for temperature in dataset[\"AvgTemperature\"]:\n        suma += pow(temperature - promedio, 2)\n    return np.sqrt(suma/len(dataset[\"AvgTemperature\"]-1)) \n\ndesvio_quito = calcular_desvio_estandar(dataset_raw_quito, promedio_quito)\ndesvio_melbourne = calcular_desvio_estandar(cleaned_dataset_melbourne, promedio_melbourne)\ndesvio_oslo = calcular_desvio_estandar(cleaned_dataset_oslo, promedio_oslo)",
      "block_group": "a2058e0c7f4c46d4a3053ecf26dfa74e",
      "execution_count": 9,
      "outputs": [],
      "outputs_reference": null,
      "content_dependencies": null
    },
    {
      "cell_type": "markdown",
      "metadata": {
        "formattedRanges": [],
        "cell_id": "4689654001a6499b83f34de06a0bc128",
        "deepnote_cell_type": "text-cell-p"
      },
      "source": "Los resultados obtenidos, redondeados a tres decimales, son los siguientes:",
      "block_group": "6bd57fcb5b014f65a37679f45a849ce0"
    },
    {
      "cell_type": "code",
      "metadata": {
        "source_hash": "46e90d07",
        "execution_start": 1750015076517,
        "execution_millis": 0,
        "execution_context_id": "df393179-1241-4d96-a329-c14b453c2db1",
        "cell_id": "ca4cf068a3894942afe826cef751c589",
        "deepnote_cell_type": "code"
      },
      "source": "print(\"Resultados de Quito:\")\nprint(\"Promedio: \", round(promedio_quito, 3))\nprint(\"Desviación estándar: \", round(desvio_quito, 3))\nprint(\"\\nResultados de Melbourne:\")\nprint(\"Promedio: \", round(promedio_melbourne, 3))\nprint(\"Desviación estándar: \", round(desvio_melbourne, 3))\nprint(\"\\nResultados de Oslo:\")\nprint(\"Promedio: \", round(promedio_oslo, 3))\nprint(\"Desviación estándar: \", round(desvio_oslo, 3))",
      "block_group": "81c79066cfeb4667a17c0ed6933f2d31",
      "execution_count": 10,
      "outputs": [
        {
          "name": "stdout",
          "text": "Resultados de Quito:\nPromedio:  13.604\nDesviación estándar:  1.302\n\nResultados de Melbourne:\nPromedio:  17.803\nDesviación estándar:  4.252\n\nResultados de Oslo:\nPromedio:  4.771\nDesviación estándar:  8.79\n",
          "output_type": "stream"
        }
      ],
      "outputs_reference": null,
      "content_dependencies": null
    },
    {
      "cell_type": "markdown",
      "metadata": {
        "formattedRanges": [],
        "cell_id": "f37ba382409a42f2b91a31ed078652be",
        "deepnote_cell_type": "text-cell-p"
      },
      "source": "De lo obtenido, se puede observar:",
      "block_group": "28c7dcef2cde4399a1062cd34f54c951"
    },
    {
      "cell_type": "markdown",
      "metadata": {
        "formattedRanges": [],
        "cell_id": "7871197f9c1f4f04ad246cc17cb53f6f",
        "deepnote_cell_type": "text-cell-bullet"
      },
      "source": "- En Quito, una temperatura promedio de aproximadamente 13.6 °C, con una desviación estándar de 1.3 °C. Es decir, la temperatura muy rara vez cambia y, si lo hace, siempre es un rango de aproximadamente 12.3 °C y 14.9 °C. Esto se corresponde con la descripción de la ciudad dada por la cátedra: \"donde la temperatura no cambia ni aunque recen diez climas distintos\".",
      "block_group": "f09de8fb96ae4daf975ae5b186b36afb"
    },
    {
      "cell_type": "markdown",
      "metadata": {
        "formattedRanges": [],
        "cell_id": "bb25f7bc1a464c63a263d118c093141d",
        "deepnote_cell_type": "text-cell-bullet"
      },
      "source": "- En Melbourne, se observa el promedio de temperatura más alto, siendo este de 17.8 °C, con una desviación estándar de 4.3 °C aproximadamente. Esto, si lo comparamos con los datos obtenidos en Quito, nos indica una mayor dispersión de los datos con respecto a la temperatura promedio.",
      "block_group": "cdc5e2e4bb18438f9b4b94c8a57c9843"
    },
    {
      "cell_type": "markdown",
      "metadata": {
        "formattedRanges": [],
        "cell_id": "d14b43284e8d4bf89147f49ea2063518",
        "deepnote_cell_type": "text-cell-bullet"
      },
      "source": "- En Oslo, se observa el promedio de temperatura más bajo entre las tres ciudades, con una media de 4.8 °C aproximadamente, y, a su vez, la desviación estándar más alta, de 8.8 °C aproximadamente, lo que indica que es la ciudad, de las analizadas, en la que más dispersas se hallan las temperaturas con respecto a su media.",
      "block_group": "8567c12933c04b128599d323511d11c9"
    },
    {
      "cell_type": "markdown",
      "metadata": {
        "formattedRanges": [],
        "cell_id": "57be1ca81a8a44998ef32a848ccc9401",
        "deepnote_cell_type": "text-cell-h2"
      },
      "source": "## 1.2 Calcular el factor de correlación cruzada entre cada par de señales. Discutir si existen correlaciones significativas o no (tratando de establecer, por ejemplo, si Melbourne podría estar prediciendo el clima de Quito, o de Oslo.. o si no tienen nada que ver).",
      "block_group": "25c4358edb8b412c90c7282e44731fa7"
    },
    {
      "cell_type": "code",
      "metadata": {
        "source_hash": "f5a28138",
        "execution_start": 1750015076596,
        "execution_millis": 1,
        "execution_context_id": "df393179-1241-4d96-a329-c14b453c2db1",
        "cell_id": "4644bc68ab0c46c7a87e1d3d2925e651",
        "deepnote_cell_type": "code"
      },
      "source": "# Se obtiene el dataset conjunto de las temperaturas de dos ciudades, junto con la frecuencia del par\ndef obtener_dataset_conjunto(dataset1, dataset2):\n    resultado = pd.DataFrame({\n        \"temperaturas_ciudad1\": dataset1[\"AvgTemperature\"].values,\n        \"temperaturas_ciudad2\": dataset2[\"AvgTemperature\"].values\n    }).value_counts().to_frame().reset_index()\n    resultado.columns = [\"temperaturas_ciudad1\", \"temperaturas_ciudad2\", \"frecuencia\"]\n    return resultado",
      "block_group": "6ae311e7799e4ccd9d63d9e7e7850bad",
      "execution_count": 11,
      "outputs": [],
      "outputs_reference": null,
      "content_dependencies": null
    },
    {
      "cell_type": "code",
      "metadata": {
        "source_hash": "36e61fce",
        "execution_start": 1750015076665,
        "execution_millis": 1,
        "execution_context_id": "df393179-1241-4d96-a329-c14b453c2db1",
        "cell_id": "04b435a2be0241c680ee0d0524989b53",
        "deepnote_cell_type": "code"
      },
      "source": "def obtener_probabilidad_conjunta(primer_temperatura, segunda_temperatura, dataset):\n\n    filtro = (\n        (dataset[\"temperaturas_ciudad1\"] == primer_temperatura) &\n        (dataset[\"temperaturas_ciudad2\"] == segunda_temperatura)\n    )\n\n    resultado = dataset[filtro][\"frecuencia\"] / dataset[\"frecuencia\"].sum()\n\n    if (len(resultado) == 0):\n        return 0\n    else:\n        return resultado.values[0]",
      "block_group": "3bfd2ebcd1c74479b8ceb4d73f44e355",
      "execution_count": 12,
      "outputs": [],
      "outputs_reference": null,
      "content_dependencies": null
    },
    {
      "cell_type": "code",
      "metadata": {
        "source_hash": "467b8561",
        "execution_start": 1750015076715,
        "execution_millis": 1198,
        "execution_context_id": "df393179-1241-4d96-a329-c14b453c2db1",
        "cell_id": "15a519ff2cb943e0b9712735f125daf0",
        "deepnote_cell_type": "code"
      },
      "source": "def obtener_dataset_combinado(first_dataset, second_dataset):\n\n    # Se crea un dataset que una, día a día, los valores de cada ciudad.\n    out = pd.DataFrame({\n        \"temperaturas_ciudad1\": first_dataset[\"AvgTemperature\"].values,\n        \"temperaturas_ciudad2\": second_dataset[\"AvgTemperature\"].values\n    })\n\n    # Se definen los nombres de las columnas.\n    out.columns = [\"temperature_first_city\", \"temperature_second_city\"]\n\n    # Se agrega una columna con las frecuencias de cada aparición.\n    return out.value_counts().to_frame(name=\"frequency\").reset_index()\n\ndef obtener_conjunta(dataset_combinado):\n\n    nro_combinaciones = dataset_combinado[\"frequency\"].sum()\n\n    valores_primer_dataset = dataset_combinado[\"temperature_first_city\"].unique()\n    valores_segundo_dataset = dataset_combinado[\"temperature_second_city\"].unique()\n\n    # Matriz de NxM, llena de ceros.\n    out = np.zeros((len(valores_primer_dataset), len(valores_segundo_dataset)))\n\n    for i in range(len(valores_primer_dataset)):\n        for j in range(len(valores_segundo_dataset)):\n            filtro = dataset_combinado[\n                (dataset_combinado[\"temperature_first_city\"] == valores_primer_dataset[i]) &\n                (dataset_combinado[\"temperature_second_city\"] == valores_segundo_dataset[j])\n            ]\n        \n            if not filtro.empty:\n                out[i][j] = filtro[\"frequency\"].values[0] / nro_combinaciones\n            else:\n                out[i][j] = 0  # No hay combinación: frecuencia = 0\n\n    return out\n\nquito_melbourne_dataset = obtener_dataset_combinado(cleaned_dataset_quito, cleaned_dataset_melbourne)\nquito_oslo_dataset = obtener_dataset_combinado(cleaned_dataset_quito, cleaned_dataset_oslo)\nmelbourne_oslo_dataset = obtener_dataset_combinado(cleaned_dataset_melbourne, cleaned_dataset_oslo)\n\nconjunta_quito_melbourne = obtener_conjunta(quito_melbourne_dataset)\nconjunta_quito_oslo = obtener_conjunta(quito_oslo_dataset)\nconjunta_melbourne_oslo = obtener_conjunta(melbourne_oslo_dataset)\n\nprint(conjunta_quito_melbourne)\nprint(conjunta_quito_oslo)\nprint(conjunta_melbourne_oslo)",
      "block_group": "9eefe0dbface4f079b2c0a0e5e8469c9",
      "execution_count": 13,
      "outputs": [
        {
          "name": "stdout",
          "text": "[[0.0261807  0.02498289 0.02310062 0.01984942 0.02190281 0.01830938\n  0.020705   0.01933607 0.01865161 0.01950719 0.01676934 0.01608487\n  0.0119781  0.01146475 0.00752909 0.00581793 0.0032512  0.00205339\n  0.00102669 0.00017112 0.00034223 0.00034223 0.         0.\n  0.        ]\n [0.01865161 0.02190281 0.02429843 0.02275838 0.02258727 0.02207392\n  0.02104723 0.01984942 0.01984942 0.01865161 0.0142026  0.01608487\n  0.00821355 0.01043806 0.00616016 0.00496235 0.00393566 0.00154004\n  0.00154004 0.00051335 0.00051335 0.00017112 0.         0.\n  0.        ]\n [0.0152293  0.0152293  0.00992471 0.01043806 0.01146475 0.01180698\n  0.01060917 0.01214921 0.01009582 0.01351814 0.01129363 0.01026694\n  0.00752909 0.00855578 0.00462012 0.00598905 0.00308008 0.00051335\n  0.00119781 0.00085558 0.         0.00034223 0.00034223 0.00017112\n  0.        ]\n [0.01112252 0.00992471 0.0142026  0.01078029 0.00924025 0.00958248\n  0.00821355 0.00770021 0.01078029 0.00941136 0.01129363 0.01009582\n  0.00444901 0.00684463 0.0032512  0.00427789 0.00136893 0.00154004\n  0.00085558 0.00017112 0.00034223 0.00034223 0.00017112 0.00017112\n  0.        ]\n [0.00290897 0.00393566 0.00479124 0.0022245  0.00205339 0.0032512\n  0.00171116 0.00188227 0.00273785 0.00188227 0.00359343 0.00188227\n  0.00034223 0.00205339 0.00034223 0.00102669 0.00068446 0.\n  0.         0.00017112 0.         0.00017112 0.         0.\n  0.        ]\n [0.00308008 0.00308008 0.00256674 0.00444901 0.00308008 0.00376454\n  0.00376454 0.00444901 0.00393566 0.00308008 0.00273785 0.00359343\n  0.00154004 0.00273785 0.00102669 0.00205339 0.00119781 0.00034223\n  0.00017112 0.00017112 0.         0.         0.00017112 0.\n  0.00017112]\n [0.00085558 0.00051335 0.00068446 0.00085558 0.00034223 0.00051335\n  0.00102669 0.00085558 0.00154004 0.00154004 0.00017112 0.00034223\n  0.00051335 0.00034223 0.00034223 0.00051335 0.         0.00017112\n  0.00017112 0.         0.         0.         0.         0.\n  0.        ]\n [0.00136893 0.00102669 0.         0.00017112 0.00051335 0.00051335\n  0.00017112 0.00034223 0.00034223 0.00017112 0.00051335 0.00017112\n  0.         0.         0.00034223 0.00034223 0.         0.\n  0.         0.         0.         0.         0.         0.\n  0.        ]\n [0.00034223 0.         0.         0.         0.         0.00017112\n  0.00034223 0.00017112 0.         0.00034223 0.00017112 0.\n  0.00034223 0.00017112 0.00017112 0.         0.         0.\n  0.         0.         0.         0.         0.         0.\n  0.        ]\n [0.         0.         0.         0.00017112 0.         0.\n  0.         0.         0.         0.00017112 0.         0.\n  0.         0.         0.         0.00017112 0.00017112 0.\n  0.         0.         0.         0.         0.         0.\n  0.        ]\n [0.00017112 0.         0.         0.         0.         0.\n  0.         0.         0.         0.         0.         0.00017112\n  0.         0.         0.         0.         0.         0.\n  0.         0.         0.         0.         0.         0.\n  0.        ]]\n[[0.01454483 0.0142026  0.01403149 0.00975359 0.01078029 0.01368925\n  0.01146475 0.01214921 0.0119781  0.01078029 0.01163587 0.0109514\n  0.01043806 0.00787132 0.00838467 0.00992471 0.00958248 0.00838467\n  0.00889802 0.0087269  0.00752909 0.00735797 0.0054757  0.00633128\n  0.00359343 0.00513347 0.00462012 0.00410678 0.00359343 0.00290897\n  0.0022245  0.00239562 0.0022245  0.00171116 0.00188227 0.00205339\n  0.00119781 0.00136893 0.00119781 0.00119781 0.00119781 0.00034223\n  0.00051335 0.00034223 0.00034223 0.00034223 0.         0.        ]\n [0.01129363 0.01334702 0.01368925 0.01386037 0.01368925 0.01078029\n  0.01300479 0.01232033 0.01078029 0.0119781  0.01180698 0.00924025\n  0.01078029 0.01060917 0.01009582 0.00838467 0.00718686 0.00941136\n  0.00889802 0.00821355 0.00770021 0.00735797 0.00564682 0.00393566\n  0.00581793 0.00359343 0.00308008 0.0032512  0.00256674 0.00136893\n  0.00188227 0.00239562 0.00154004 0.00136893 0.00171116 0.00102669\n  0.00188227 0.00051335 0.00102669 0.00085558 0.00051335 0.00085558\n  0.         0.00034223 0.00034223 0.         0.         0.        ]\n [0.0054757  0.00770021 0.00735797 0.00633128 0.00598905 0.00633128\n  0.0065024  0.00633128 0.0065024  0.00376454 0.00855578 0.00787132\n  0.00633128 0.00684463 0.00581793 0.00513347 0.00701574 0.00564682\n  0.00718686 0.00359343 0.00462012 0.00410678 0.0065024  0.00410678\n  0.00410678 0.00154004 0.00273785 0.00342231 0.00239562 0.00171116\n  0.00085558 0.00154004 0.00239562 0.0022245  0.00205339 0.00068446\n  0.00068446 0.00017112 0.00068446 0.00068446 0.00068446 0.00034223\n  0.00017112 0.00017112 0.         0.         0.00034223 0.        ]\n [0.00598905 0.00530459 0.00855578 0.00616016 0.00718686 0.00564682\n  0.00718686 0.00359343 0.00684463 0.00427789 0.00633128 0.00496235\n  0.00513347 0.00256674 0.00308008 0.00633128 0.00564682 0.00393566\n  0.00444901 0.00393566 0.00444901 0.0032512  0.00359343 0.00205339\n  0.00273785 0.00239562 0.00154004 0.00273785 0.00205339 0.00171116\n  0.00273785 0.00239562 0.00136893 0.00085558 0.00102669 0.00034223\n  0.00102669 0.00034223 0.00034223 0.00068446 0.00051335 0.\n  0.00017112 0.00017112 0.00017112 0.00017112 0.         0.00017112]\n [0.00154004 0.00256674 0.00205339 0.00239562 0.00188227 0.00136893\n  0.00239562 0.00205339 0.0022245  0.00136893 0.00171116 0.0022245\n  0.00102669 0.00171116 0.00171116 0.00171116 0.00102669 0.0022245\n  0.00102669 0.00102669 0.00119781 0.00102669 0.00068446 0.00205339\n  0.00068446 0.00034223 0.00205339 0.00188227 0.00085558 0.00085558\n  0.00017112 0.00034223 0.00068446 0.00034223 0.00136893 0.00034223\n  0.00051335 0.         0.         0.00017112 0.00017112 0.\n  0.         0.         0.         0.00017112 0.         0.        ]\n [0.00171116 0.00068446 0.00188227 0.00119781 0.00256674 0.00256674\n  0.00085558 0.00154004 0.00085558 0.00051335 0.00102669 0.00136893\n  0.00068446 0.         0.00102669 0.00136893 0.00239562 0.00102669\n  0.00188227 0.00119781 0.00102669 0.00017112 0.00188227 0.00051335\n  0.00154004 0.00102669 0.00034223 0.00136893 0.00085558 0.00034223\n  0.00034223 0.00068446 0.00034223 0.         0.         0.00017112\n  0.00034223 0.         0.00017112 0.         0.         0.\n  0.         0.00017112 0.         0.         0.         0.        ]\n [0.00102669 0.00034223 0.00051335 0.00017112 0.00136893 0.\n  0.00051335 0.00034223 0.00119781 0.00034223 0.00068446 0.00034223\n  0.00051335 0.00068446 0.00017112 0.00017112 0.         0.00034223\n  0.00017112 0.         0.00017112 0.00051335 0.00034223 0.00034223\n  0.00017112 0.         0.00034223 0.         0.         0.\n  0.         0.         0.00017112 0.         0.         0.\n  0.         0.         0.         0.00017112 0.         0.\n  0.         0.00017112 0.         0.         0.         0.        ]\n [0.00034223 0.         0.00051335 0.         0.00102669 0.00034223\n  0.00017112 0.         0.00034223 0.         0.00017112 0.00051335\n  0.         0.00017112 0.         0.00017112 0.00017112 0.00017112\n  0.         0.         0.         0.         0.00017112 0.\n  0.00017112 0.00051335 0.00017112 0.         0.00034223 0.\n  0.         0.00017112 0.         0.         0.         0.00017112\n  0.00017112 0.         0.         0.         0.         0.\n  0.         0.         0.         0.         0.         0.        ]\n [0.00017112 0.00017112 0.         0.00017112 0.00034223 0.\n  0.00034223 0.         0.         0.         0.00017112 0.\n  0.         0.         0.         0.         0.         0.\n  0.         0.         0.00017112 0.00017112 0.         0.00017112\n  0.         0.         0.         0.00017112 0.         0.\n  0.         0.         0.         0.         0.         0.\n  0.00017112 0.         0.         0.         0.         0.\n  0.         0.         0.         0.         0.         0.        ]\n [0.         0.         0.         0.         0.         0.\n  0.         0.         0.         0.         0.         0.\n  0.         0.00017112 0.         0.         0.         0.\n  0.         0.         0.00017112 0.         0.         0.\n  0.         0.         0.         0.         0.         0.\n  0.         0.         0.         0.         0.         0.\n  0.         0.         0.         0.         0.         0.\n  0.         0.         0.         0.         0.         0.        ]\n [0.         0.         0.         0.00017112 0.         0.00017112\n  0.         0.         0.00017112 0.         0.         0.\n  0.         0.00017112 0.         0.         0.         0.\n  0.         0.         0.         0.         0.         0.\n  0.         0.         0.         0.         0.         0.\n  0.         0.         0.         0.         0.         0.\n  0.         0.         0.         0.         0.         0.\n  0.         0.         0.         0.         0.         0.        ]]\n[[0.00855578 0.00051335 0.         ... 0.00034223 0.         0.        ]\n [0.         0.00804244 0.00701574 ... 0.         0.         0.        ]\n [0.00017112 0.00718686 0.00787132 ... 0.         0.         0.        ]\n ...\n [0.         0.         0.         ... 0.         0.         0.        ]\n [0.         0.         0.         ... 0.         0.         0.        ]\n [0.         0.         0.         ... 0.         0.         0.        ]]\n",
          "output_type": "stream"
        }
      ],
      "outputs_reference": null,
      "content_dependencies": null
    },
    {
      "cell_type": "markdown",
      "metadata": {
        "deepnote_img_src": "image-20250611-104115.png",
        "cell_id": "7af875ff495a448cb805bd7881064460",
        "deepnote_cell_type": "image"
      },
      "source": "<img src=\"image-20250611-104115.png\" width=\"\" align=\"\" />",
      "block_group": "3209e401bfce40ca8d11686a02357fd3"
    },
    {
      "cell_type": "markdown",
      "metadata": {
        "formattedRanges": [],
        "cell_id": "4b2cfa2dce9348ae82aebdb831f414f9",
        "deepnote_cell_type": "text-cell-p"
      },
      "source": "La correlación cruzada, en términos generales, es una medida de la similitud entre dos señales o procesos, considerando un posible desfase temporal entre ellos. Se utiliza para identificar si hay una relación entre dos señales y, en caso afirmativo, determinar el grado de esa relación y el tiempo de desfase",
      "block_group": "f03fff70c209462bab93e57ac635f9dd"
    },
    {
      "cell_type": "markdown",
      "metadata": {
        "formattedRanges": [],
        "cell_id": "766e9f86e84348428f5c7ef2853df9c1",
        "deepnote_cell_type": "text-cell-p"
      },
      "source": "El coeficiente de correlación cruzada (o simplemente correlación cruzada) es una medida estadística que cuantifica la similitud entre dos series temporales o señales. Indica la fuerza y dirección de la relación entre ellas, incluyendo un desfase temporal (retardo). Varía entre -1 y +1, donde -1 indica una correlación negativa perfecta, 0 ninguna correlación y +1 una correlación positiva perfecta. ",
      "block_group": "da33dc5456654ba99982ac4cd911b709"
    },
    {
      "cell_type": "markdown",
      "metadata": {
        "deepnote_img_src": "image-20250614-152550.png",
        "cell_id": "bb8765107bd14d57ab97c5265d5c686e",
        "deepnote_cell_type": "image"
      },
      "source": "<img src=\"image-20250614-152550.png\" width=\"\" align=\"\" />",
      "block_group": "53544583ca4f41f3a0431cfb7f4a1045"
    },
    {
      "cell_type": "markdown",
      "metadata": {
        "formattedRanges": [],
        "cell_id": "eab77a46ee42446bbdcf547125058528",
        "deepnote_cell_type": "text-cell-h1"
      },
      "source": "# Parte 2: Una fuente de calor… markoviana.",
      "block_group": "6609d763f4c14c34b95aa49798befa4a"
    },
    {
      "cell_type": "markdown",
      "metadata": {
        "formattedRanges": [
          {
            "type": "marks",
            "marks": {
              "italic": true
            },
            "toCodePoint": 80,
            "fromCodePoint": 79
          },
          {
            "type": "marks",
            "marks": {
              "italic": true
            },
            "toCodePoint": 107,
            "fromCodePoint": 105
          }
        ],
        "cell_id": "c03111103e26458cb5744b0fb55263ed",
        "deepnote_cell_type": "text-cell-p"
      },
      "source": "En esta segunda parte del trabajo que, considerando los valores de temperatura t que componen cada señal Si, se construya una nueva señal Ti compuesta por una secuencia de símbolos discretos F, T o C, definidos según: \r",
      "block_group": "637bdd27f66d4c12ae7cde5698c0506a"
    },
    {
      "cell_type": "markdown",
      "metadata": {
        "formattedRanges": [],
        "cell_id": "bf6e2b28665d40b4a429340a8daf6228",
        "deepnote_cell_type": "text-cell-bullet"
      },
      "source": "- F (frío): si t < 11°C\r",
      "block_group": "94c63aed61e84d92b528090ea88c2fc7"
    },
    {
      "cell_type": "markdown",
      "metadata": {
        "formattedRanges": [],
        "cell_id": "b1c121b39fcd48e4873b8b4c3721e712",
        "deepnote_cell_type": "text-cell-bullet"
      },
      "source": "- T (templado): si 11 ≤ t < 19°C\r",
      "block_group": "e36bb9cbd33c4506a10871f0449884b1"
    },
    {
      "cell_type": "markdown",
      "metadata": {
        "formattedRanges": [],
        "cell_id": "51ce055d1d1f4d4bb3b649ff9166559b",
        "deepnote_cell_type": "text-cell-bullet"
      },
      "source": "- C (cálido): si t ≥ 19°C\r",
      "block_group": "24f9d1ad7cb748788d568a103e860595"
    },
    {
      "cell_type": "markdown",
      "metadata": {
        "formattedRanges": [],
        "cell_id": "8b951130f172460a9465c7df81589ae0",
        "deepnote_cell_type": "text-cell-p"
      },
      "source": "Por consiguiente, se consigue una versión discretizada de cada una de las fuentes, aplicando el mapeo indicando:",
      "block_group": "85f70dba32a64595b2ac7c83f852a3fe"
    },
    {
      "cell_type": "code",
      "metadata": {
        "source_hash": "5c45bf72",
        "execution_start": 1750015077985,
        "execution_millis": 1,
        "execution_context_id": "df393179-1241-4d96-a329-c14b453c2db1",
        "cell_id": "ee30ddfb153f4014889ddc17af23d285",
        "deepnote_cell_type": "code"
      },
      "source": "def obtener_fuente_discreta(dataset):\n    # Se realiza un remplazo de los valores de temperatura por los correspondientes simbolos.\n    return dataset.map(lambda x: 'F' if x < 11.0 else 'T' if x < 19.0 else 'C')\n\n# Se obtienen los datasets discretos para cada ciudad.\ndiscrete_quito_dataset = obtener_fuente_discreta(dataset_raw_quito)\ndiscrete_melbourne_dataset = obtener_fuente_discreta(cleaned_dataset_melbourne)\ndiscrete_oslo_dataset = obtener_fuente_discreta(cleaned_dataset_oslo)",
      "block_group": "89627f48c87745e880b112c53923e479",
      "execution_count": 14,
      "outputs": [],
      "outputs_reference": null,
      "content_dependencies": null
    },
    {
      "cell_type": "markdown",
      "metadata": {
        "formattedRanges": [],
        "cell_id": "82f2cb0d5b524072b4663cb70aca1eab",
        "deepnote_cell_type": "text-cell-p"
      },
      "source": "A su vez, se definen dos variables que se utilizarán, a partir de ahora, en el resto del trabajo:",
      "block_group": "e126dac4c63a42d28ea0faa38606379b"
    },
    {
      "cell_type": "code",
      "metadata": {
        "source_hash": "e11d4ed6",
        "execution_start": 1750015078060,
        "execution_millis": 1,
        "execution_context_id": "df393179-1241-4d96-a329-c14b453c2db1",
        "cell_id": "52bd8265da6746fa9326d00606f684a3",
        "deepnote_cell_type": "code"
      },
      "source": "# Se define dos constantes:\n# - el número de símbolos en las fuentes;\nNRO_SIMBOLOS = 3\n# - y un diccionario que permita obtener el índice correspondiente a\n#   cada simbolo dentro de las estructuras que se creen.\nINDEX = {\n    'F': 0,\n    'T': 1,\n    'C': 2\n}",
      "block_group": "2218104d122c4befaae05bc3819286e6",
      "execution_count": 15,
      "outputs": [],
      "outputs_reference": null,
      "content_dependencies": null
    },
    {
      "cell_type": "markdown",
      "metadata": {
        "formattedRanges": [
          {
            "type": "marks",
            "marks": {
              "italic": true
            },
            "toCodePoint": 85,
            "fromCodePoint": 83
          }
        ],
        "cell_id": "b5cd3ef9abb542a0bfef4371f2bd264b",
        "deepnote_cell_type": "text-cell-p"
      },
      "source": "Con las fuentes discretizadas y las variables definidas, se nos propuso, para cada Ti:",
      "block_group": "e2e55027a2ef4ff3ae4a59908cca3ab8"
    },
    {
      "cell_type": "markdown",
      "metadata": {
        "formattedRanges": [],
        "cell_id": "bc7757865a994b9cade1466796a0584a",
        "deepnote_cell_type": "text-cell-h2"
      },
      "source": "## 1. Modelar la fuente con memoria de orden 1 (Markov), obtener la matriz de transición y analizar su comportamiento (por ejemplo, tratá de descubrir cosas como: En Oslo, si hace frío hoy, es casi seguro que siga así hasta julio..).",
      "block_group": "57121db848094ee6b9c9cc0dd9701636"
    },
    {
      "cell_type": "markdown",
      "metadata": {
        "formattedRanges": [],
        "cell_id": "7fbafe4ddb134ef8baa41e04768acd07",
        "deepnote_cell_type": "text-cell-p"
      },
      "source": "Se calculan las matrices de transición para cada ciudad:",
      "block_group": "6da0780c053f4152a816ed47baa55d53"
    },
    {
      "cell_type": "code",
      "metadata": {
        "source_hash": "34e0d597",
        "execution_start": 1750015078126,
        "execution_millis": 1,
        "execution_context_id": "df393179-1241-4d96-a329-c14b453c2db1",
        "cell_id": "4edde03d65954dfe8ec16f284b629dcf",
        "deepnote_cell_type": "code"
      },
      "source": "def get_matriz_transicion(secuencia):\n\n    # Se crea una matriz de ceros.\n    matriz_transicion = np.zeros((NRO_SIMBOLOS, NRO_SIMBOLOS))\n\n    # Se calcula la matriz de transición.\n    simbolo = secuencia[0]\n    for siguiente_simbolo in secuencia[1:]:\n        # Se suma 1 a las apariciones de \"siguiente_simbolo\", dado que anteriormente salio \"simbolo\".\n        matriz_transicion[INDEX[siguiente_simbolo], INDEX[simbolo]] += 1\n        simbolo = siguiente_simbolo\n\n    # Se divide cada celda de la matriz de transición por la cantidad de símbolos emitidos.\n    suma_columnas = matriz_transicion.sum(axis=0)\n    for j in range(NRO_SIMBOLOS):\n        # La suma de las columnas debe dar uno.\n        # Se normaliza por columna.\n        if suma_columnas[j] > 0:\n            # Se divide toda la columna por la cantidad de apariciones de un símbolo luego del de la columna.\n            matriz_transicion[:, j] = matriz_transicion[:, j] / suma_columnas[j]\n\n    return matriz_transicion\n\n# Matriz de transición de Quito.\nmatriz_transicion_quito = get_matriz_transicion(discrete_quito_dataset[\"AvgTemperature\"])\nprint(\"Matriz de transición de Quito:\\n\", matriz_transicion_quito.round(3))\n\n# Matriz de transición de Melbourne.\nmatriz_transicion_melbourne = get_matriz_transicion(discrete_melbourne_dataset[\"AvgTemperature\"])\nprint(\"\\nMatriz de transición de Melbourne:\\n\", matriz_transicion_melbourne.round(3))\n\n# Matriz de transición de Oslo.\nmatriz_transicion_oslo = get_matriz_transicion(discrete_oslo_dataset[\"AvgTemperature\"])\nprint(\"\\nMatriz de transición de Oslo:\\n\", matriz_transicion_oslo.round(3))",
      "block_group": "d1ae6c6332b24a009fa0b37997955385",
      "execution_count": 16,
      "outputs": [
        {
          "name": "stdout",
          "text": "Matriz de transición de Quito:\n [[0.054 0.006 0.   ]\n [0.946 0.993 1.   ]\n [0.    0.001 0.   ]]\n\nMatriz de transición de Melbourne:\n [[0.486 0.032 0.   ]\n [0.514 0.837 0.145]\n [0.    0.132 0.855]]\n\nMatriz de transición de Oslo:\n [[0.959 0.099 0.   ]\n [0.041 0.866 0.296]\n [0.    0.035 0.704]]\n",
          "output_type": "stream"
        }
      ],
      "outputs_reference": null,
      "content_dependencies": null
    },
    {
      "cell_type": "markdown",
      "metadata": {
        "formattedRanges": [],
        "cell_id": "0f8a73e508574b8b9964af92359d4db2",
        "deepnote_cell_type": "text-cell-h2"
      },
      "source": "## 2. Usar muestro Monte Carlo para obtener, para cada símbolos:",
      "block_group": "149a993dde8e4ae3b755252a14eeb401"
    },
    {
      "cell_type": "markdown",
      "metadata": {
        "formattedRanges": [],
        "cell_id": "95fbd87bfe734324838cd58e96cd6014",
        "deepnote_cell_type": "text-cell-bullet"
      },
      "source": "- Usar muestreo Monte Carlo para obtener, para cada símbolo:\r",
      "block_group": "df58f74b8e71474e910ab9a14bd1350d"
    },
    {
      "cell_type": "markdown",
      "metadata": {
        "formattedRanges": [],
        "cell_id": "aa1312f31728403b9a321bd61774e321",
        "deepnote_cell_type": "text-cell-h3"
      },
      "source": "### 2.2.1. La probabilidad estacionaria.",
      "block_group": "04f9102ba41c4cd3b8344728f34a2987"
    },
    {
      "cell_type": "markdown",
      "metadata": {
        "formattedRanges": [],
        "cell_id": "6c58527661e241d395969e65a5ab2b96",
        "deepnote_cell_type": "text-cell-bullet"
      },
      "source": "- La probabilidad estacionaria (esa a la que llegás después de mucho simular).\r",
      "block_group": "04d248f33075411e82cb0a080cbb97c7"
    },
    {
      "cell_type": "markdown",
      "metadata": {
        "formattedRanges": [],
        "cell_id": "3e6f5a82d923474caa1c7b1ccefda7ca",
        "deepnote_cell_type": "text-cell-p"
      },
      "source": "Para esto, se realiza el cálculo de la matriz estacionaria acumulada de cada ciudad:",
      "block_group": "47feb189e3584f39a337d259a29a27f9"
    },
    {
      "cell_type": "code",
      "metadata": {
        "source_hash": "81ab5e0",
        "execution_start": 1750015078191,
        "execution_millis": 0,
        "execution_context_id": "df393179-1241-4d96-a329-c14b453c2db1",
        "cell_id": "e90a917521cd4f489bdd791103f81229",
        "deepnote_cell_type": "code"
      },
      "source": "def get_matriz_acumulada(matriz_transicion):\n\n    # Se realiza una copia de la matriz de transición, para no modificar la original.\n    out = matriz_transicion.copy()\n\n    for i in range(NRO_SIMBOLOS-1): # -1, ya que se empieza a sumar desde la segunda columna.\n        for j in range(NRO_SIMBOLOS):\n            # Se le suma a cada fila los valores de las filas anteriores.\n            out[i+1][j] += out[i][j]\n\n    return out\n\n# Obtención de las matrices acumuladas para cada ciudad.\nmatriz_acumulada_quito = get_matriz_acumulada(matriz_transicion_quito)\nmatriz_acumulada_melbourne = get_matriz_acumulada(matriz_transicion_melbourne)\nmatriz_acumulada_oslo = get_matriz_acumulada(matriz_transicion_oslo)",
      "block_group": "d8ec1f8cae614c3da87502f973a67217",
      "execution_count": 17,
      "outputs": [],
      "outputs_reference": null,
      "content_dependencies": null
    },
    {
      "cell_type": "markdown",
      "metadata": {
        "formattedRanges": [],
        "cell_id": "5cfd76e3db8946f196b91dd57b11d27a",
        "deepnote_cell_type": "text-cell-p"
      },
      "source": "se definen la función de convergencia y la función que nos permite obtener el siguiente símbolo, dado uno anterior:",
      "block_group": "639e1d796d264363af63918cba32cc4a"
    },
    {
      "cell_type": "code",
      "metadata": {
        "source_hash": "41153a7",
        "execution_start": 1750015078248,
        "execution_millis": 1,
        "execution_context_id": "df393179-1241-4d96-a329-c14b453c2db1",
        "cell_id": "2fd821c9d52f4d348a3925055480d259",
        "deepnote_cell_type": "code"
      },
      "source": "def get_siguiente(simbolo_anterior, nro_simbolos, matriz_transicion_acumulada):\n    \n    # Si no hay símbolo anterior, se retorna un símbolo aleatorio.\n    if simbolo_anterior is None:\n        return random.randint(0, nro_simbolos - 1)\n\n    p = random.random()\n\n    for i in range(nro_simbolos):\n        if (p < matriz_transicion_acumulada[i, simbolo_anterior]):\n            return i\n\n    return None\n\ndef converge(probabilidad_actual, probabilidad_anterior, epsilon):\n\n    for i in range(len(probabilidad_actual)):\n        if (abs(probabilidad_actual[i] - probabilidad_anterior[i]) > epsilon):\n            return False\n\n    return True",
      "block_group": "527fe0a1628f4935aac40285766a9fdd",
      "execution_count": 18,
      "outputs": [],
      "outputs_reference": null,
      "content_dependencies": null
    },
    {
      "cell_type": "markdown",
      "metadata": {
        "formattedRanges": [],
        "cell_id": "5ca04c1662b84bda9798013c8b9e9ff4",
        "deepnote_cell_type": "text-cell-p"
      },
      "source": "se define una función que, dado un vector de muestreos tomados en el cálculo del vector estacionario, nos permita realizar gráficos de convergencia:",
      "block_group": "704863d454934a28a4754bf45b197994"
    },
    {
      "cell_type": "code",
      "metadata": {
        "source_hash": "1fd81577",
        "execution_start": 1750018590043,
        "execution_millis": 1,
        "execution_context_id": "2d0d7b62-3394-4423-a436-35592d5cb442",
        "cell_id": "fad1467c243b4c49bd397bc85698f36a",
        "deepnote_cell_type": "code"
      },
      "source": "def mostrar_grafico_convergencia(historial, iteraciones, nro_simbolos=NRO_SIMBOLOS):\n\n    # Por cada símbolo...\n    for i in range(nro_simbolos):\n        # Por cada iteración, se diagrama su probabilidad...\n        plt.plot(iteraciones, historial[i], label=f'Símbolo {i}')\n\n    plt.xlabel('Iteraciones')\n    plt.ylabel('Probabilidad')\n    plt.title('Convergencia del vector estacionario')\n    plt.legend()\n    plt.grid(True)\n    plt.show()",
      "block_group": "62b1acc37d0a4886b190ccb12ca84714",
      "execution_count": 9,
      "outputs": [],
      "outputs_reference": null,
      "content_dependencies": null
    },
    {
      "cell_type": "markdown",
      "metadata": {
        "formattedRanges": [],
        "cell_id": "df3130901cf84ed299e04dac3410c73c",
        "deepnote_cell_type": "text-cell-p"
      },
      "source": "y, por último, se define la función que permitirá la toma de muestras cada cierto número de iteraciones y el cálculo del vector estacionario:",
      "block_group": "e75cc89c7f5743868c9083e89aded5a0"
    },
    {
      "cell_type": "code",
      "metadata": {
        "cell_id": "a6ca309027ef4d6997d962f25967cb2b",
        "deepnote_cell_type": "code"
      },
      "source": "def get_vector_estacionario(matriz_transicion_acumulada, nro_simbolos=NRO_SIMBOLOS, epsilon=0.0000005, min_iteraciones=10000):\n\n    apariciones = np.zeros(nro_simbolos)\n    vector_estacionario = np.zeros(nro_simbolos)\n    vector_estacionario_anterior = np.full(nro_simbolos, -1)\n\n    simbolo = None\n    iteraciones = 0\n\n    # Se guarda el historial para graficar.\n    historial_iteraciones = []\n    historial = [[] for _ in range(nro_simbolos)]\n\n    while (not converge(vector_estacionario, vector_estacionario_anterior, epsilon) or (iteraciones < min_iteraciones)):\n\n        simbolo = get_siguiente(simbolo, nro_simbolos, matriz_transicion_acumulada)\n        iteraciones += 1\n\n        apariciones[simbolo] += 1\n        vector_estacionario_anterior = vector_estacionario.copy()\n        vector_estacionario = np.array([ aparicion / iteraciones for aparicion in apariciones ])\n\n        # Cada 100 iteraciones, se añade a cada símbolo la probabilidad hallada.\n        # Esto con fines de poder realizar el diagrama de convergencia.\n        if iteraciones % 100 == 0:\n            for i in range(nro_simbolos):\n                historial[i].append(vector_estacionario[i])\n            historial_iteraciones.append(iteraciones)\n\n    return vector_estacionario, historial, historial_iteraciones",
      "block_group": "e06e15b36ae54e439905b48167b0126e",
      "execution_count": null,
      "outputs": [],
      "outputs_reference": null,
      "content_dependencies": null
    },
    {
      "cell_type": "markdown",
      "metadata": {
        "formattedRanges": [],
        "cell_id": "fc3daea39b284e13b244c136be2418cd",
        "deepnote_cell_type": "text-cell-p"
      },
      "source": "Con las funciones definidas, se cálculo para los siguientes umbrales de convergencia:",
      "block_group": "a7d1a1e67162455bb97831fa7220dd51"
    },
    {
      "cell_type": "code",
      "metadata": {
        "cell_id": "9ff34949fbc44244aaf0ef14f8a764b6",
        "deepnote_cell_type": "code"
      },
      "source": "umbrales = [0.05, 0.005, 0.0005, 0.00005, 0.0000005]",
      "block_group": "4e1bfb89fd074869aa0e4dbe23ace0d2",
      "execution_count": null,
      "outputs": [],
      "outputs_reference": null,
      "content_dependencies": null
    },
    {
      "cell_type": "markdown",
      "metadata": {
        "formattedRanges": [],
        "cell_id": "95513e5cdfac49ed8a8cbcc02ae98af5",
        "deepnote_cell_type": "text-cell-p"
      },
      "source": "el vector estacionario y las",
      "block_group": "b7049ee96a084cce80be76ba418ff1c9"
    },
    {
      "cell_type": "code",
      "metadata": {
        "cell_id": "0278a7d2365447378389110346d3e1db",
        "deepnote_cell_type": "code"
      },
      "source": "for umbral in umbrales:\n    print(f\"RESULTADOS PARA UMBRAL DE CONVERGENCIA: {umbral}\")\n    print(\"QUITO\")\n    print(\"Vector estacionario: \", vector_estacionario_quito.round(3))\n    mostrar_grafico_convergencia(historial_quito, iteraciones_quito)\n    print(\"MELBOURNE\")\n    print(\"Vector estacionario: \", vector_estacionario_melbourne.round(3))\nmostrar_grafico_convergencia(historial_melbourne, iteraciones_melbourne)\nprint(\"OSLO\")\nprint(\"Vector estacionario: \", vector_estacionario_oslo.round(3))\nmostrar_grafico_convergencia(historial_oslo, iteraciones_oslo)",
      "block_group": "305dd5d65f014f8e9e87815eae2db57f",
      "execution_count": null,
      "outputs": [],
      "outputs_reference": null,
      "content_dependencies": null
    },
    {
      "cell_type": "markdown",
      "metadata": {
        "formattedRanges": [],
        "cell_id": "75879f4d73d44376a836624905176bd8",
        "deepnote_cell_type": "text-cell-p"
      },
      "source": "",
      "block_group": "ff9d93dc5d7a4973a48d424b1956a149"
    },
    {
      "cell_type": "markdown",
      "metadata": {
        "formattedRanges": [],
        "cell_id": "5450d1eacc2342e68c0bad88742c915e",
        "deepnote_cell_type": "text-cell-h3"
      },
      "source": "### 2.2.2. El tiempo medio de 1° recurrencia.",
      "block_group": "d45101dd422a44c8bf445baf3718f40a"
    },
    {
      "cell_type": "markdown",
      "metadata": {
        "formattedRanges": [],
        "cell_id": "eacc7de6232e4adb8a88afb0e5a727a9",
        "deepnote_cell_type": "text-cell-bullet"
      },
      "source": "- El tiempo medio de 1° recurrencia (ese que te dice, en promedio, cuánto tarda un símbolo en volver a aparecer después de haberse emitido).\r\nNota: Experimentar con diferentes umbrales de convergencia ε (comentar si realmente influyen en los resultados, o todo es una ilusión matemática). Analizar precisión de resultados en función del tiempo e incluir gráfico de convergencia.",
      "block_group": "65ff5ab0df1f4ffd8a4844015b76068e"
    },
    {
      "cell_type": "markdown",
      "metadata": {
        "formattedRanges": [],
        "cell_id": "368a9ac7356d40b59e3648c101c35a11",
        "deepnote_cell_type": "text-cell-p"
      },
      "source": "Se calculan las matrices de transición para cada ciudad:",
      "block_group": "f56e2486ff0b457ea61dff4c47e328a7"
    },
    {
      "cell_type": "markdown",
      "metadata": {
        "formattedRanges": [],
        "cell_id": "10a5600800004874a525ba34706a8cce",
        "deepnote_cell_type": "text-cell-p"
      },
      "source": "\"Quito, donde la temperatura no cambia ni aunque recen diez climas distintos.\"",
      "block_group": "36d7caa0721d4f95aa6de44a747ec52a"
    },
    {
      "cell_type": "markdown",
      "metadata": {
        "formattedRanges": [],
        "cell_id": "3af9de9979c9466fa8e1db1102eee3d1",
        "deepnote_cell_type": "text-cell-p"
      },
      "source": "Cálculo del vector estacionario:",
      "block_group": "a7cbd4d0e6cc487e8085704010dcb96d"
    },
    {
      "cell_type": "code",
      "metadata": {
        "source_hash": "17a7eb28",
        "execution_start": 1750018728892,
        "execution_millis": 10581,
        "execution_context_id": "2d0d7b62-3394-4423-a436-35592d5cb442",
        "cell_id": "a4cc7dc4c74c4423817a48e9efc1afec",
        "deepnote_cell_type": "code"
      },
      "source": "def get_vector_estacionario(matriz_transicion_acumulada, nro_simbolos=NRO_SIMBOLOS, epsilon=0.0000005, min_iteraciones=10000):\n\n    apariciones = np.zeros(nro_simbolos)\n    vector_estacionario = np.zeros(nro_simbolos)\n    vector_estacionario_anterior = np.full(nro_simbolos, -1)\n\n    simbolo = None\n    iteraciones = 0\n\n    # Se guarda el historial para graficar.\n    historial_iteraciones = []\n    historial = [[] for _ in range(nro_simbolos)]\n\n    while (not converge(vector_estacionario, vector_estacionario_anterior, epsilon) or (iteraciones < min_iteraciones)):\n\n        simbolo = get_siguiente(simbolo, nro_simbolos, matriz_transicion_acumulada)\n        iteraciones += 1\n\n        apariciones[simbolo] += 1\n        vector_estacionario_anterior = vector_estacionario.copy()\n        vector_estacionario = np.array([ aparicion / iteraciones for aparicion in apariciones ])\n\n        # Cada 100 iteraciones, se añade a cada símbolo la probabilidad hallada.\n        # Esto con fines de poder realizar el diagrama de convergencia.\n        if iteraciones % 100 == 0:\n            for i in range(nro_simbolos):\n                historial[i].append(vector_estacionario[i])\n            historial_iteraciones.append(iteraciones)\n\n    return vector_estacionario, historial, historial_iteraciones\n\nvector_estacionario_quito, historial_quito, iteraciones_quito = get_vector_estacionario(matriz_acumulada_quito)\nvector_estacionario_melbourne, historial_melbourne, iteraciones_melbourne = get_vector_estacionario(matriz_acumulada_melbourne)\nvector_estacionario_oslo, historial_oslo, iteraciones_oslo = get_vector_estacionario(matriz_acumulada_oslo)\n\nprint(\"QUITO\")\nprint(\"Vector estacionario: \", vector_estacionario_quito.round(3))\nmostrar_grafico_convergencia(historial_quito, iteraciones_quito)\nprint(\"MELBOURNE\")\nprint(\"Vector estacionario: \", vector_estacionario_melbourne.round(3))\nmostrar_grafico_convergencia(historial_melbourne, iteraciones_melbourne)\nprint(\"OSLO\")\nprint(\"Vector estacionario: \", vector_estacionario_oslo.round(3))\nmostrar_grafico_convergencia(historial_oslo, iteraciones_oslo)\n",
      "block_group": "b86b50818371409bb1b4686ebe3944f1",
      "execution_count": 21,
      "outputs": [
        {
          "name": "stdout",
          "text": "QUITO\nVector estacionario:  [0.005 0.994 0.001]\n",
          "output_type": "stream"
        },
        {
          "data": {
            "text/plain": "<Figure size 640x480 with 1 Axes>",
            "image/png": "[encoded data removed]"
          },
          "metadata": {
            "image/png": {
              "width": 586,
              "height": 455
            }
          },
          "output_type": "display_data"
        },
        {
          "name": "stdout",
          "text": "MELBOURNE\nVector estacionario:  [0.031 0.507 0.462]\n",
          "output_type": "stream"
        },
        {
          "data": {
            "text/plain": "<Figure size 640x480 with 1 Axes>",
            "image/png": "[encoded data removed]"
          },
          "metadata": {
            "image/png": {
              "width": 567,
              "height": 455
            }
          },
          "output_type": "display_data"
        },
        {
          "name": "stdout",
          "text": "OSLO\nVector estacionario:  [0.686 0.28  0.034]\n",
          "output_type": "stream"
        },
        {
          "data": {
            "text/plain": "<Figure size 640x480 with 1 Axes>",
            "image/png": "[encoded data removed]"
          },
          "metadata": {
            "image/png": {
              "width": 567,
              "height": 455
            }
          },
          "output_type": "display_data"
        }
      ],
      "outputs_reference": null,
      "content_dependencies": null
    },
    {
      "cell_type": "markdown",
      "metadata": {
        "formattedRanges": [],
        "cell_id": "8fcd0ab534df47cdb0976720c7d01950",
        "deepnote_cell_type": "text-cell-p"
      },
      "source": "Se experimentó con distintos números de e",
      "block_group": "c0c13e510ded4070b4d8f6a7567ed53e"
    },
    {
      "cell_type": "markdown",
      "metadata": {
        "formattedRanges": [],
        "cell_id": "995887c10c574657b2c3013b4cf6ddca",
        "deepnote_cell_type": "text-cell-p"
      },
      "source": "De los vectores estacionarios, es posible obtener que:",
      "block_group": "39f814787c474e0dad8b369fd527f215"
    },
    {
      "cell_type": "markdown",
      "metadata": {
        "formattedRanges": [],
        "cell_id": "38a0632d2bbb4166a4d6ec462dbbe6b4",
        "deepnote_cell_type": "text-cell-bullet"
      },
      "source": "- ",
      "block_group": "07e5934a394c4fa7948beab7761986eb"
    },
    {
      "cell_type": "markdown",
      "metadata": {
        "formattedRanges": [],
        "cell_id": "55042e3971534c33941c5ec1ed9b0d2e",
        "deepnote_cell_type": "text-cell-h3"
      },
      "source": "### El tiempo medio de 1° recurrencia.",
      "block_group": "e844e46031fb4c44b57220fd53f6f6c3"
    },
    {
      "cell_type": "code",
      "metadata": {
        "source_hash": "972f2512",
        "execution_start": 1750012632960,
        "execution_millis": 19552,
        "execution_context_id": "df393179-1241-4d96-a329-c14b453c2db1",
        "deepnote_to_be_reexecuted": true,
        "cell_id": "d23a723314854fefb9e4acf4b01dbce5",
        "deepnote_cell_type": "code"
      },
      "source": "def obtener_medias_primera_recurrencia(matriz_transicion_acumulada, nro_simbolos, epsilon=0.0005, min_iteraciones=100000):\n    \n    pasos = [0] * nro_simbolos # np.zeros(nro_simbolos)\n    ocurrencias = [0] * nro_simbolos # np.zeros(nro_simbolos)\n    medias_recurrencia = [0] * nro_simbolos # np.zeros(nro_simbolos)\n    t_ultima_ocurrencia = [-1] * nro_simbolos # np.full(nro_simbolos, -1)\n    medias_recurrencia_anterior = [-1] * nro_simbolos # np.full(nro_simbolos, -1)\n    \n    t_actual = 0\n\n    simbolo = None\n\t\n    while (not converge(medias_recurrencia, medias_recurrencia_anterior, epsilon) or (t_actual < min_iteraciones)):\n\n        simbolo = get_siguiente(simbolo, nro_simbolos, matriz_transicion_acumulada)\n\n        # Si la señal ya apareció al menos una vez...\n        if (t_ultima_ocurrencia[simbolo] >= 0):\n            # Se suma la cantidad de pasos desde la última ocurrencia.\n            pasos[simbolo] += t_actual - t_ultima_ocurrencia[simbolo]\n            ocurrencias[simbolo] += 1\n\n        t_ultima_ocurrencia[simbolo] = t_actual\n        t_actual += 1\n\n        # Se actualiza la media de primera recurrencia del símbolo.\n        medias_recurrencia_anterior[simbolo] = medias_recurrencia[simbolo]\n        if (ocurrencias[simbolo] > 0):\n            medias_recurrencia[simbolo] = pasos[simbolo] / ocurrencias[simbolo]\n        \n    return [round(x,3) for x in medias_recurrencia]\n\t\nprint(\"Medias de primera recurrencia:\")\nmedias_primera_recurrencia_quito = obtener_medias_primera_recurrencia(matriz_acumulada_quito, 3)\nprint(\"Quito:\", medias_primera_recurrencia_quito)\nmedias_primera_recurrencia_melbourne = obtener_medias_primera_recurrencia(matriz_acumulada_melbourne, 3)\nprint(\"Melbourne:\", medias_primera_recurrencia_melbourne)\nmedias_primera_recurrencia_oslo = obtener_medias_primera_recurrencia(matriz_acumulada_oslo, 3)\nprint(\"Oslo:\", medias_primera_recurrencia_oslo)",
      "block_group": "20d6b9db2ddf4d1b8d5fbe2cfb86c25b",
      "execution_count": 17,
      "outputs": [
        {
          "name": "stdout",
          "text": "Medias de primera recurrencia:\nQuito: [159.736, 1.007, 1457.038]\nMelbourne: [33.35, 1.991, 2.138]\nOslo: [1.452, 3.603, 29.478]\n",
          "output_type": "stream"
        }
      ],
      "outputs_reference": null,
      "content_dependencies": null
    },
    {
      "cell_type": "markdown",
      "metadata": {
        "formattedRanges": [],
        "cell_id": "516d1a6dfaa04a7796088dad29c9794d",
        "deepnote_cell_type": "text-cell-p"
      },
      "source": "Media de recurrencia → Tiempo medio de espera para volver a emitir un símbolo.",
      "block_group": "aec871dc45d444d7891de5a7e5674ca7"
    },
    {
      "cell_type": "markdown",
      "metadata": {
        "formattedRanges": [],
        "cell_id": "a872cfd406f045798ebe1d267d4f605c",
        "deepnote_cell_type": "text-cell-h1"
      },
      "source": "# Parte 3: Entropía, Huffman y la batalla por los bits",
      "block_group": "51858bb1b8894aa192e850a8bcaac55c"
    },
    {
      "cell_type": "markdown",
      "metadata": {
        "formattedRanges": [],
        "cell_id": "35f1577edeb2417e81f480d46b8bd6d1",
        "deepnote_cell_type": "text-cell-h2"
      },
      "source": "## 1. Calcular la entropía de cada fuente Ti :",
      "block_group": "4deadc52627a4a29a367f92d0a166095"
    },
    {
      "cell_type": "markdown",
      "metadata": {
        "formattedRanges": [],
        "cell_id": "45ceccf8fa044718bd9c6b6c32fde52f",
        "deepnote_cell_type": "text-cell-h3"
      },
      "source": "### a. Sin memoria (orden 0), considerando símbolos individuales.",
      "block_group": "ae3902ebc3cc4171b5b186892a9b4d66"
    },
    {
      "cell_type": "code",
      "metadata": {
        "source_hash": "f9c040c2",
        "execution_start": 1750012652576,
        "execution_millis": 0,
        "execution_context_id": "df393179-1241-4d96-a329-c14b453c2db1",
        "deepnote_to_be_reexecuted": true,
        "cell_id": "f08b7fe31a1c48b09d8e6efa464dfbe6",
        "deepnote_cell_type": "code"
      },
      "source": "def get_entropia_sin_memoria(vector_estacionario):\n    nro_simbolos = len(vector_estacionario)\n    h = 0\n    for i in range(nro_simbolos):\n        if vector_estacionario[i] != 0:\n            h += vector_estacionario[i] * np.log2(vector_estacionario[i])\n    return round(-h, 3)\n\nentropia_melbourne = get_entropia_sin_memoria(vector_estacionario_melbourne)\nentropia_quito = get_entropia_sin_memoria(vector_estacionario_quito)\nentropia_oslo = get_entropia_sin_memoria(vector_estacionario_oslo)\nprint(\"Entropía sin memoria para Melbourne: \", entropia_melbourne)\nprint(\"Entropía sin memoria para Quito: \", entropia_quito)\nprint(\"Entropía sin memoria para Oslo: \", entropia_oslo)",
      "block_group": "dbe86b131b8d4d5bac792d1bd1facd71",
      "execution_count": 18,
      "outputs": [
        {
          "name": "stdout",
          "text": "Entropía sin memoria para Melbourne:  1.167\nEntropía sin memoria para Quito:  0.064\nEntropía sin memoria para Oslo:  1.057\n",
          "output_type": "stream"
        }
      ],
      "outputs_reference": null,
      "content_dependencies": null
    },
    {
      "cell_type": "markdown",
      "metadata": {
        "formattedRanges": [],
        "cell_id": "3a68a8118681417480dac613fef92a80",
        "deepnote_cell_type": "text-cell-h3"
      },
      "source": "### b. Con memoria (orden 1), usando información sobre transiciones entre símbolos.",
      "block_group": "2637d4d0c3634250a85e001dbfcf0129"
    },
    {
      "cell_type": "code",
      "metadata": {
        "source_hash": "18696885",
        "execution_start": 1750012652645,
        "execution_millis": 1,
        "execution_context_id": "df393179-1241-4d96-a329-c14b453c2db1",
        "deepnote_to_be_reexecuted": true,
        "cell_id": "b5eca9510e6b43169d6182a40afbfbbe",
        "deepnote_cell_type": "code"
      },
      "source": "def get_entropia_con_memoria(matriz_transicion, vector_estacionario, nro_simbolos=3):\n    hcond = 0\n    for i in range(nro_simbolos):\n        hi = 0\n        for j in range(nro_simbolos):\n            if matriz_transicion[j][i] != 0:\n                hi += matriz_transicion[j][i] * np.log2(matriz_transicion[j][i])\n        hcond += vector_estacionario[i] * (-hi)\n    return round(hcond, 3)\n\nentropia_cond_melbourne = get_entropia_con_memoria(matriz_transicion_melbourne, vector_estacionario_melbourne)\nentropia_cond_quito = get_entropia_con_memoria(matriz_transicion_quito, vector_estacionario_quito)\nentropia_cond_oslo = get_entropia_con_memoria(matriz_transicion_oslo, vector_estacionario_oslo)\nprint(\"Entropía con memoria para Melbourne: \", entropia_cond_melbourne)\nprint(\"Entropía con memoria para Quito: \", entropia_cond_quito)\nprint(\"Entropía con memoria para Oslo: \", entropia_cond_oslo)",
      "block_group": "06a07b99d120428e9d53c7bb59f0d85a",
      "execution_count": 19,
      "outputs": [
        {
          "name": "stdout",
          "text": "Entropía con memoria para Melbourne:  0.691\nEntropía con memoria para Quito:  0.063\nEntropía con memoria para Oslo:  0.39\n",
          "output_type": "stream"
        }
      ],
      "outputs_reference": null,
      "content_dependencies": null
    },
    {
      "cell_type": "markdown",
      "metadata": {
        "formattedRanges": [],
        "cell_id": "1b2ce17fa32d415ca89cb7f47e743f1d",
        "deepnote_cell_type": "text-cell-h3"
      },
      "source": "### Interpretar los resultados: ¿Qué ciudad presenta menor entropía? ¿Cuál más? ¿Esto hace que alguna ciudad sea más impredecible que otra?",
      "block_group": "3ec16e767cca4ac9acb265a77ba87b70"
    },
    {
      "cell_type": "markdown",
      "metadata": {
        "formattedRanges": [],
        "cell_id": "85ec46f2ce884100abd217c715550126",
        "deepnote_cell_type": "text-cell-p"
      },
      "source": "A la mayor entropía la presenta Melbourne. Con una entropía cercana, se halla Oslo. Quito tiene la menor entropía, lo cual es coherente con su descripción:",
      "block_group": "9d1492800541455ca0ffddc006f5913e"
    },
    {
      "cell_type": "markdown",
      "metadata": {
        "formattedRanges": [],
        "cell_id": "df00957411534f1ba39c5476e7a5b3dc",
        "deepnote_cell_type": "text-cell-h2"
      },
      "source": "## 2. Implementar el algoritmo de Huffman para codificar cada señal Ti  y su extensión a orden 2, teniendo en cuenta que la fuente es markoviana. Aplicar el Teorema de Shannon y analizar resultados.",
      "block_group": "20b6ac1a1d654009ac8623e519476ade"
    },
    {
      "cell_type": "code",
      "metadata": {
        "source_hash": "8f1a5305",
        "execution_start": 1750012652695,
        "execution_millis": 1,
        "execution_context_id": "df393179-1241-4d96-a329-c14b453c2db1",
        "deepnote_to_be_reexecuted": true,
        "cell_id": "38047b261e304f94a3b04b19ec82970c",
        "deepnote_cell_type": "code"
      },
      "source": "def get_fuente(vector_estacionario):\n    fuente = {\n        'F' : vector_estacionario[0],\n        'T' : vector_estacionario[1],\n        'C' : vector_estacionario[2]\n    }\n    return fuente\n\nfuente_melbourne = get_fuente(vector_estacionario_melbourne)\nfuente_quito = get_fuente(vector_estacionario_quito)\nfuente_oslo = get_fuente(vector_estacionario_oslo)",
      "block_group": "e1511dd5d1f249648ec56a2a3fe50973",
      "execution_count": 20,
      "outputs": [],
      "outputs_reference": null,
      "content_dependencies": null
    },
    {
      "cell_type": "code",
      "metadata": {
        "source_hash": "62f7b174",
        "execution_start": 1750012652755,
        "execution_millis": 0,
        "execution_context_id": "df393179-1241-4d96-a329-c14b453c2db1",
        "deepnote_to_be_reexecuted": true,
        "cell_id": "03ed02fb31754350b1107fbbea47eb35",
        "deepnote_cell_type": "code"
      },
      "source": "def reemplazar(fuente):\n    out = {}\n    remplazo = {}\n    letra = '@'\n    for(key, value) in fuente.items():\n        letra = chr(ord(letra) + 1)\n        out.update({letra : value})\n        remplazo.update({letra : key})\n    return out , remplazo\n\ndef extender(fuente, remplazo):\n    out = {}\n    for(key, value) in fuente.items():\n        out.update({remplazo[key] : value})\n    return out",
      "block_group": "160b54f3f9e945c993d0ef6933ed8e5f",
      "execution_count": 21,
      "outputs": [],
      "outputs_reference": null,
      "content_dependencies": null
    },
    {
      "cell_type": "code",
      "metadata": {
        "source_hash": "1bb866",
        "execution_start": 1750012652806,
        "execution_millis": 7,
        "execution_context_id": "df393179-1241-4d96-a329-c14b453c2db1",
        "deepnote_to_be_reexecuted": true,
        "cell_id": "24219094971a4edfbfb66dee15450642",
        "deepnote_cell_type": "code"
      },
      "source": "def get_fuente_orden2(vector_estacionario, matriz_transicion): \n    fuente = {\n        0 : 'F',\n        1 : 'T',\n        2 : 'C'\n    }\n    fuente2 = {}\n    for i in range(3):\n        for j in range(3):\n            p = vector_estacionario[i] * matriz_transicion[j][i]\n            if p != 0:\n                fuente2.update({fuente[i] + fuente[j] : p})\n    return fuente2\n\norden2_melbourne_aux , remplazo_melbourne = reemplazar(get_fuente_orden2(vector_estacionario_melbourne, matriz_transicion_melbourne))\norden2_quito_aux, remplazo_quito = reemplazar(get_fuente_orden2(vector_estacionario_quito, matriz_transicion_quito))\norden2_oslo_aux, remplazo_oslo = reemplazar(get_fuente_orden2(vector_estacionario_oslo, matriz_transicion_oslo))\nprint(\"Fuente de orden 2  para Melborne: \",orden2_melbourne_aux)\nprint(\"Fuente de orden 2  para Quito: \",orden2_quito_aux)\nprint(\"Fuente de orden 2  para Oslo: \",orden2_oslo_aux)",
      "block_group": "4cfe35d744844c8d8bb306b08b789f29",
      "execution_count": 22,
      "outputs": [
        {
          "name": "stdout",
          "text": "Fuente de orden 2  para Melborne:  {'A': 0.015076502732240437, 'B': 0.015923497267759563, 'C': 0.016147823152210597, 'D': 0.42585588930138374, 'E': 0.06699628754640567, 'F': 0.06651835372636264, 'G': 0.3934816462736374}\nFuente de orden 2  para Quito:  {'A': 0.00032432432432432436, 'B': 0.005675675675675676, 'C': 0.0059901758014477766, 'D': 0.9863252326783868, 'E': 0.0006845915201654602, 'F': 0.001}\nFuente de orden 2  para Oslo:  {'A': 0.6551816591704148, 'B': 0.02781834082958521, 'C': 0.028041945288753794, 'D': 0.2449799392097264, 'E': 0.009978115501519755, 'F': 0.01006122448979592, 'G': 0.023938775510204083}\n",
          "output_type": "stream"
        }
      ],
      "outputs_reference": null,
      "content_dependencies": null
    },
    {
      "cell_type": "code",
      "metadata": {
        "source_hash": "bbc32d19",
        "execution_start": 1750012652886,
        "execution_millis": 0,
        "execution_context_id": "df393179-1241-4d96-a329-c14b453c2db1",
        "deepnote_to_be_reexecuted": true,
        "cell_id": "46d4104aa2a146699b19b897fa024c6c",
        "deepnote_cell_type": "code"
      },
      "source": "def get_codificacion_huffman(fuente):\n    copia = fuente.copy()\n    out = {}\n    prob_obtenida = 0\n\n    # El round() es necesario puesto a que, al no trabjar con números exactos, a veces se producen errores de redondeo,\n    # tal y como que la suma da 0.9999... y entonces el while itera una vez más de lo que debería.\n    while prob_obtenida <= 0.99:\n        copia = dict(sorted(copia.items(), key=lambda x: x[1], reverse=True))\n        ultimo = list(copia.items())[-1]\n        anteultimo = list(copia.items())[-2]\n        for char in list(anteultimo[0]):\n            out[char] = '1' + str(out.get(char,''))\n        for char in list(ultimo[0]):\n            out[char] = '0' + str(out.get(char,''))\n        prob_obtenida = (ultimo[1] + anteultimo[1])\n        del copia[ultimo[0]]\n        del copia[anteultimo[0]]\n        copia.update({ultimo[0] + anteultimo[0] : prob_obtenida})\n    \n    return out\n\nhuffman_melbourne = get_codificacion_huffman(fuente_melbourne)\nhuffman_quito = get_codificacion_huffman(fuente_quito)\nhuffman_oslo = get_codificacion_huffman(fuente_oslo)\nhuffman_melbourne2_aux = get_codificacion_huffman(orden2_melbourne_aux)\nhuffman_quito2_aux = get_codificacion_huffman(orden2_quito_aux)\nhuffman_oslo2_aux = get_codificacion_huffman(orden2_oslo_aux)\nprint(\"Codificación Huffman para Melbourne: \",huffman_melbourne)\nprint(\"Codificación Huffman para Quito: \",huffman_quito)\nprint(\"Codificación Huffman para Oslo: \",huffman_oslo)\nprint(\"Codificación Huffman para orden 2 de Melbourne: \",huffman_melbourne2_aux)\nprint(\"Codificación Huffman para orden 2 de Quito: \",huffman_quito2_aux)\nprint(\"Codificación Huffman para orden 2 de Oslo: \",huffman_oslo2_aux)  ",
      "block_group": "15148199adda4ecd8d3926bed9524a1a",
      "execution_count": 23,
      "outputs": [
        {
          "name": "stdout",
          "text": "Codificación Huffman para Melbourne:  {'C': '01', 'F': '00', 'T': '1'}\nCodificación Huffman para Quito:  {'F': '01', 'C': '00', 'T': '1'}\nCodificación Huffman para Oslo:  {'T': '01', 'C': '00', 'F': '1'}\nCodificación Huffman para orden 2 de Melbourne:  {'B': '101011', 'A': '101010', 'C': '10100', 'F': '1011', 'E': '100', 'G': '11', 'D': '0'}\nCodificación Huffman para orden 2 de Quito:  {'E': '01011', 'A': '01010', 'F': '0100', 'B': '011', 'C': '00', 'D': '1'}\nCodificación Huffman para orden 2 de Oslo:  {'F': '00001', 'E': '00000', 'G': '0001', 'C': '0011', 'B': '0010', 'D': '01', 'A': '1'}\n",
          "output_type": "stream"
        }
      ],
      "outputs_reference": null,
      "content_dependencies": null
    },
    {
      "cell_type": "code",
      "metadata": {
        "source_hash": "71eadc1c",
        "execution_start": 1750012652946,
        "execution_millis": 1,
        "execution_context_id": "df393179-1241-4d96-a329-c14b453c2db1",
        "deepnote_to_be_reexecuted": true,
        "cell_id": "c0fe35a86b0544e58bad9ce36fa90295",
        "deepnote_cell_type": "code"
      },
      "source": "orden2_melbourne = extender(orden2_melbourne_aux, remplazo_melbourne)\norden2_quito = extender(orden2_quito_aux, remplazo_quito)\norden2_oslo = extender(orden2_oslo_aux, remplazo_oslo)\n\nhuffman_melbourne2 = extender(huffman_melbourne2_aux, remplazo_melbourne)\nhuffman_quito2 = extender(huffman_quito2_aux, remplazo_quito)\nhuffman_oslo2 = extender(huffman_oslo2_aux, remplazo_oslo)\n\nprint(huffman_quito2)",
      "block_group": "56b716ec043341b29a90722dc1675f3c",
      "execution_count": 24,
      "outputs": [
        {
          "name": "stdout",
          "text": "{'TC': '01011', 'FF': '01010', 'CT': '0100', 'FT': '011', 'TF': '00', 'TT': '1'}\n",
          "output_type": "stream"
        }
      ],
      "outputs_reference": null,
      "content_dependencies": null
    },
    {
      "cell_type": "markdown",
      "metadata": {
        "formattedRanges": [],
        "cell_id": "d4b997f672904679a64d27f1cf0e3e67",
        "deepnote_cell_type": "text-cell-h2"
      },
      "source": "## 3. En cada caso, calcular la longitud total del mensaje codificado (en bits), compararla con la longitud original del archivo y obtener la tasa de compresión.\r",
      "block_group": "afbcc924f86743c5921bb57b79b94a4d"
    },
    {
      "cell_type": "code",
      "metadata": {
        "source_hash": "936fdccd",
        "execution_start": 1750012652996,
        "execution_millis": 0,
        "execution_context_id": "df393179-1241-4d96-a329-c14b453c2db1",
        "deepnote_to_be_reexecuted": true,
        "cell_id": "e658fb5a1d8941b0a8ac2bb14b13a518",
        "deepnote_cell_type": "code"
      },
      "source": "def get_longitud_media(codigo_huffman,probabilidades):\n    L = 0\n    for key, value in codigo_huffman.items():\n        L += len(value) * probabilidades[key]\n    return L\n\nlongitud_media_melbourne = get_longitud_media(huffman_melbourne, fuente_melbourne)\nlongitud_media_quito = get_longitud_media(huffman_quito, fuente_quito)\nlongitud_media_oslo = get_longitud_media(huffman_oslo, fuente_oslo)\nlongitud_media_melbourne2 = get_longitud_media(huffman_melbourne2, orden2_melbourne)\nlongitud_media_quito2 = get_longitud_media(huffman_quito2, orden2_quito)\nlongitud_media_oslo2 = get_longitud_media(huffman_oslo2, orden2_oslo)\nprint(\"Longitud media para Melbourne: \",longitud_media_melbourne)\nprint(\"Longitud media para Quito: \",longitud_media_quito)\nprint(\"Longitud media para Oslo: \",longitud_media_oslo)\nprint(\"Longitud media para orden 2 de Melbourne: \",longitud_media_melbourne2)\nprint(\"Longitud media para orden 2 de Quito: \",longitud_media_quito2)\nprint(\"Longitud media para orden 2 de Oslo: \",longitud_media_oslo2)",
      "block_group": "9db3c3d2c358480b9bfff9ea8175949a",
      "execution_count": 25,
      "outputs": [
        {
          "name": "stdout",
          "text": "Longitud media para Melbourne:  1.491\nLongitud media para Quito:  1.007\nLongitud media para Oslo:  1.317\nLongitud media para orden 2 de Melbourne:  1.946620575154379\nLongitud media para orden 2 de Quito:  1.0243771905307584\nLongitud media para orden 2 de Oslo:  1.5645344840606183\n",
          "output_type": "stream"
        }
      ],
      "outputs_reference": null,
      "content_dependencies": null
    },
    {
      "cell_type": "code",
      "metadata": {
        "source_hash": "44089565",
        "execution_start": 1750012653055,
        "execution_millis": 1,
        "execution_context_id": "df393179-1241-4d96-a329-c14b453c2db1",
        "deepnote_to_be_reexecuted": true,
        "cell_id": "91f42a4a84234cfe894ca1b5e01d53f0",
        "deepnote_cell_type": "code"
      },
      "source": "def get_limites_shannon(h,hcond,n):\n    lim_inferior = h/n + ((1 - 1/n) * hcond)\n    lim_superior = lim_inferior + 1/n\n    return lim_inferior, lim_superior\n\nlimite_inferior_melbourne, limite_superior_melbourne = get_limites_shannon(entropia_melbourne, entropia_cond_melbourne, 1)\nlimite_inferior_quito, limite_superior_quito = get_limites_shannon(entropia_quito, entropia_cond_quito, 1)\nlimite_inferior_oslo, limite_superior_oslo = get_limites_shannon(entropia_oslo, entropia_cond_oslo, 1)\nlimite_inferior_melbourne2, limite_superior_melbourne2 = get_limites_shannon(entropia_melbourne, entropia_cond_melbourne, 2)\nlimite_inferior_quito2, limite_superior_quito2 = get_limites_shannon(entropia_quito, entropia_cond_quito, 2)\nlimite_inferior_oslo2, limite_superior_oslo2 = get_limites_shannon(entropia_oslo, entropia_cond_oslo, 2)\nprint(\"Shannon para Melbourne orden 1: \")\nprint(limite_inferior_melbourne, \" <= \", longitud_media_melbourne, \" < \", limite_superior_melbourne)\nprint(\"Shannon para Quito orden 1: \")\nprint(limite_inferior_quito, \" <= \", longitud_media_quito, \" < \", limite_superior_quito)\nprint(\"Shannon para Oslo orden 1: \")\nprint(limite_inferior_oslo, \" <= \", longitud_media_oslo, \" < \", limite_superior_oslo)\nprint(\"Shannon para Melbourne orden 2: \")\nprint(limite_inferior_melbourne2, \" <= \", longitud_media_melbourne2/2, \" < \", limite_superior_melbourne2)\nprint(\"Shannon para Quito orden 2: \")\nprint(limite_inferior_quito2, \" <= \", longitud_media_quito2/2, \" < \", limite_superior_quito2)\nprint(\"Shannon para Oslo orden 2: \")\nprint(limite_inferior_oslo2, \" <= \", longitud_media_oslo2/2, \" < \", limite_superior_oslo2)",
      "block_group": "aa073c648acd4d03af378977545b3978",
      "execution_count": 26,
      "outputs": [
        {
          "name": "stdout",
          "text": "Shannon para Melbourne orden 1: \n1.167  <=  1.491  <  2.167\nShannon para Quito orden 1: \n0.064  <=  1.007  <  1.064\nShannon para Oslo orden 1: \n1.057  <=  1.317  <  2.057\nShannon para Melbourne orden 2: \n0.929  <=  0.9733102875771895  <  1.429\nShannon para Quito orden 2: \n0.0635  <=  0.5121885952653792  <  0.5635\nShannon para Oslo orden 2: \n0.7235  <=  0.7822672420303092  <  1.2235\n",
          "output_type": "stream"
        }
      ],
      "outputs_reference": null,
      "content_dependencies": null
    },
    {
      "cell_type": "markdown",
      "metadata": {
        "formattedRanges": [],
        "cell_id": "0ad4f472af2e4c11aa11a2e501316c71",
        "deepnote_cell_type": "text-cell-p"
      },
      "source": "Asumiendo que los símbolos enviados originalmente son codificados",
      "block_group": "f65070cf35a4476d8621c212d68b27fa"
    },
    {
      "cell_type": "code",
      "metadata": {
        "source_hash": "fdcec14a",
        "execution_start": 1750012653116,
        "execution_millis": 7639,
        "execution_context_id": "df393179-1241-4d96-a329-c14b453c2db1",
        "deepnote_to_be_reexecuted": true,
        "cell_id": "914ece8e77444f10813f7a89e2e659b5",
        "deepnote_cell_type": "code"
      },
      "source": "def get_fuente_pares(dataset_discreto):\n    out = pd.DataFrame(columns = [\"Par\"])\n    for i in range((len(dataset_discreto)//2)):\n        out.loc[i] = [dataset_discreto[\"AvgTemperature\"][i*2] + dataset_discreto[\"AvgTemperature\"][i*2+1]]\n    return out\n\ndef get_values_and_counts(dataset):\n    values, counts = np.unique(dataset, return_counts=True)\n    # Se retorna un diccionario que asocia a cada valor único su número de apariciones.\n    return dict(zip(values, counts))\n\ndef obtener_tasa_comprension(original_dataset, discrete_dataset, huffman_codification):\n\n    original_count = get_values_and_counts(original_dataset)\n    discrete_count = get_values_and_counts(discrete_dataset)\n\n    bits_originales = 0\n    for (value, count) in original_count.items():\n        # Cantidad de bits que deben usarse para almacenar el valor por su número de apariciones.\n        bits_originales += len(bin(int(value))[2:]) * count\n\n    bits_codificados = 0\n    for (value, count) in discrete_count.items():\n        # Cantidad de bits que deben usarse para almacenar el valor por su número de apariciones.\n        bits_codificados += len(huffman_codification[value]) * count\n\n    tasa_comprension = bits_originales / bits_codificados\n    return bits_originales, bits_codificados, tasa_comprension\n\nprint(\"COMPRENSIONES DE ORDEN 1:\")\nbits_originales_melbourne, bits_codificados_melbourne, tasa_comprension_melbourne = obtener_tasa_comprension(cleaned_dataset_melbourne, discrete_melbourne_dataset[\"AvgTemperature\"], huffman_melbourne)\nbits_originales_quito, bits_codificados_quito, tasa_comprension_quito = obtener_tasa_comprension(dataset_raw_quito, discrete_quito_dataset[\"AvgTemperature\"], huffman_quito)\nbits_originales_oslo, bits_codificados_oslo, tasa_comprension_oslo = obtener_tasa_comprension(cleaned_dataset_oslo, discrete_oslo_dataset[\"AvgTemperature\"], huffman_oslo)\nprint(\"\\nTasa de comprensión para Melbourne: \",tasa_comprension_melbourne)\nprint(f\"En lugar de utilizarse {bits_originales_melbourne} bits, se utilizan {bits_codificados_melbourne} bits.\")\nprint(\"\\nTasa de comprensión para Quito: \",tasa_comprension_quito)\nprint(f\"En lugar de utilizarse {bits_originales_quito} bits, se utilizan {bits_codificados_quito} bits.\")\nprint(\"\\nTasa de comprensión para Oslo: \",tasa_comprension_oslo)\nprint(f\"En lugar de utilizarse {bits_originales_oslo} bits, se utilizan {bits_codificados_oslo} bits.\")\n\nprint(\"\\nCOMPRENSIONES DE ORDEN 2:\")\nbits_originales_melbourne, bits_codificados_melbourne, tasa_comprension_melbourne = obtener_tasa_comprension(cleaned_dataset_melbourne, get_fuente_pares(discrete_melbourne_dataset), huffman_melbourne2)\nbits_originales_quito, bits_codificados_quito, tasa_comprension_quito = obtener_tasa_comprension(dataset_raw_quito, get_fuente_pares(discrete_quito_dataset), huffman_quito2)\nbits_originales_oslo, bits_codificados_oslo, tasa_comprension_oslo = obtener_tasa_comprension(cleaned_dataset_oslo, get_fuente_pares(discrete_oslo_dataset), huffman_oslo2)\nprint(\"\\nTasa de comprensión para Melbourne: \",tasa_comprension_melbourne)\nprint(f\"En lugar de utilizarse {bits_originales_melbourne} bits, se utilizan {bits_codificados_melbourne} bits.\")\nprint(\"\\nTasa de comprensión para Quito: \",tasa_comprension_quito)\nprint(f\"En lugar de utilizarse {bits_originales_quito} bits, se utilizan {bits_codificados_quito} bits.\")\nprint(\"\\nTasa de comprensión para Oslo: \",tasa_comprension_oslo)\nprint(f\"En lugar de utilizarse {bits_originales_oslo} bits, se utilizan {bits_codificados_oslo} bits.\")",
      "block_group": "af702f34b7594f0b8f7e6f7fbd3db6c2",
      "execution_count": 27,
      "outputs": [
        {
          "name": "stdout",
          "text": "COMPRENSIONES DE ORDEN 1:\n\nTasa de comprensión para Melbourne:  3.1267621776504297\nEn lugar de utilizarse 27281 bits, se utilizan 8725 bits.\n\nTasa de comprensión para Quito:  4.037043330501274\nEn lugar de utilizarse 23758 bits, se utilizan 5885 bits.\n\nTasa de comprensión para Oslo:  2.6608978529603124\nEn lugar de utilizarse 20449 bits, se utilizan 7685 bits.\n\nCOMPRENSIONES DE ORDEN 2:\n\nTasa de comprensión para Melbourne:  4.77608543417367\nEn lugar de utilizarse 27281 bits, se utilizan 5712 bits.\n\nTasa de comprensión para Quito:  7.953799799129562\nEn lugar de utilizarse 23758 bits, se utilizan 2987 bits.\n\nTasa de comprensión para Oslo:  4.449303742384682\nEn lugar de utilizarse 20449 bits, se utilizan 4596 bits.\n",
          "output_type": "stream"
        }
      ],
      "outputs_reference": null,
      "content_dependencies": null
    },
    {
      "cell_type": "markdown",
      "metadata": {
        "formattedRanges": [],
        "cell_id": "4cd9b4d42a9f4e1bb5a9f1049f034aa9",
        "deepnote_cell_type": "text-cell-h1"
      },
      "source": "# Parte 4: El canal climático de Musk.",
      "block_group": "f2dfe305c62d4040915fd8333808770a"
    },
    {
      "cell_type": "markdown",
      "metadata": {
        "formattedRanges": [],
        "cell_id": "6c0b8fc386d741f192bd46c38adfc292",
        "deepnote_cell_type": "text-cell-p"
      },
      "source": "Ahora el satélite en órbita (SpaceHeat-42) transmite la señal $S_2$ (de Melbourne)… pero lo que llega a la base terrestre es S4 (Melbourne “ruidoso”), misteriosamente diferente.",
      "block_group": "b190d2aa081c45e1a2574f9361c7a512"
    },
    {
      "cell_type": "code",
      "metadata": {
        "source_hash": "e139b7df",
        "execution_start": 1750012660806,
        "execution_millis": 1,
        "execution_context_id": "df393179-1241-4d96-a329-c14b453c2db1",
        "deepnote_to_be_reexecuted": true,
        "cell_id": "05528f2e578941b6b45e3b0844ddcec7",
        "deepnote_cell_type": "code"
      },
      "source": "def get_matriz_conjunta(matriz_transicion, vector_estacionario, orden=3):\n    \n    # Se crea una matriz cuadrada de ceros.\n    out = np.zeros((orden, orden))\n\n    for i in range(orden):\n        for j in range(orden):\n            out[i][j] = (matriz_transicion[i][j] * vector_estacionario[j]).round(3)\n\n    return out\n\nmatriz_conjunta_melbourne = get_matriz_conjunta(matriz_transicion_melbourne, vector_estacionario_melbourne)\nprint(\"Matriz conjunta de Melbourne:\\n\", matriz_conjunta_melbourne)",
      "block_group": "dc35e0a97a714ff78dc9047efb8631a7",
      "execution_count": 28,
      "outputs": [
        {
          "name": "stdout",
          "text": "Matriz conjunta de Melbourne:\n [[0.015 0.016 0.   ]\n [0.016 0.426 0.067]\n [0.    0.067 0.393]]\n",
          "output_type": "stream"
        }
      ],
      "outputs_reference": null,
      "content_dependencies": null
    },
    {
      "cell_type": "markdown",
      "metadata": {
        "formattedRanges": [],
        "cell_id": "4aff98b516914039ada02ebfb3cf4cbe",
        "deepnote_cell_type": "text-cell-p"
      },
      "source": "Ahora el satélite en órbita (SpaceHeat-42) transmite la señal S2 (de Melbourne)… pero lo que llega a la base terrestre es S4 (Melbourne “ruidoso”), misteriosamente diferente.\r\nGenerar T4 (de igual manera igual que se generaron las otras Ti), y construir la matriz de canal comparando T2 (entrada) y T4 (salida).\r\nCalcula el Ruido del canal y la Información mutua. Analizar los valores obtenidos (explicar si es un buen canal o una porquería disfrazada de innovación).",
      "block_group": "78b972db1b604660a91f8fd35f3180cd"
    },
    {
      "cell_type": "markdown",
      "metadata": {
        "formattedRanges": [],
        "cell_id": "c958f6184d2b4f5b91a2fdd958af0a7c",
        "deepnote_cell_type": "text-cell-p"
      },
      "source": "Se obtiene la fuente discreta de T4 y se construye su matriz de transición:",
      "block_group": "82140bb5ec9c44409cfa069916e14b92"
    },
    {
      "cell_type": "code",
      "metadata": {
        "source_hash": "21b6fffd",
        "execution_start": 1750012660875,
        "execution_millis": 1,
        "execution_context_id": "df393179-1241-4d96-a329-c14b453c2db1",
        "deepnote_to_be_reexecuted": true,
        "cell_id": "7eb974b7609d4839a18efa57b0115ab7",
        "deepnote_cell_type": "code"
      },
      "source": "discrete_melbourne_ruidoso_dataset = obtener_fuente_discreta(cleaned_dataset_melbourne_ruidoso)\nmatriz_transicion_melbourne_ruidoso = get_matriz_transicion(discrete_melbourne_ruidoso_dataset[\"AvgTemperature\"])\n\nprint(\"Matriz de transición de Melbourne:\\n\", matriz_transicion_melbourne)\nprint(\"\\nMatriz de transición para Melbourne ruidoso:\\n\", matriz_transicion_melbourne_ruidoso)",
      "block_group": "a39d36ecc837477db66ca4300055f405",
      "execution_count": 29,
      "outputs": [
        {
          "name": "stdout",
          "text": "Matriz de transición de Melbourne:\n [[0.4863388  0.0317246  0.        ]\n [0.5136612  0.83665204 0.14460512]\n [0.         0.13162335 0.85539488]]\n\nMatriz de transición para Melbourne ruidoso:\n [[0.3030888  0.12046869 0.01233616]\n [0.63127413 0.57305016 0.3234387 ]\n [0.06563707 0.30648114 0.66422513]]\n",
          "output_type": "stream"
        }
      ],
      "outputs_reference": null,
      "content_dependencies": null
    },
    {
      "cell_type": "code",
      "metadata": {
        "source_hash": "d4d2971f",
        "execution_start": 1750012660926,
        "execution_millis": 0,
        "execution_context_id": "df393179-1241-4d96-a329-c14b453c2db1",
        "deepnote_to_be_reexecuted": true,
        "cell_id": "076d259b16e24ee3a30c0673aeee13a5",
        "deepnote_cell_type": "code"
      },
      "source": "def get_canal_compuesto(entrada, salida, orden=3, rounding=3):\n\n    # Se crea una matriz llena de ceros, en la que almacenará el canal compuesto.\n    out = np.zeros((orden, orden))\n\n    for i in range(orden):\n        for j in range(orden):\n            suma = 0\n            for k in range(orden):\n                suma += salida[i][k] * entrada[k][j]\n            out[i][j] = round(suma, rounding)\n\n    return out\n\ncanal_compuesto = get_canal_compuesto(matriz_transicion_melbourne, matriz_transicion_melbourne_ruidoso)\nprint(canal_compuesto)",
      "block_group": "df60bb75c77a438695eebbe7e8cdd7e1",
      "execution_count": 30,
      "outputs": [
        {
          "name": "stdout",
          "text": "[[0.209 0.112 0.028]\n [0.601 0.542 0.36 ]\n [0.189 0.346 0.612]]\n",
          "output_type": "stream"
        }
      ],
      "outputs_reference": null,
      "content_dependencies": null
    },
    {
      "cell_type": "markdown",
      "metadata": {
        "formattedRanges": [],
        "cell_id": "4bd0fa69722d4a7a85f322fb97f2b598",
        "deepnote_cell_type": "text-cell-p"
      },
      "source": "Se tiene un canal, donde la entrada es T2 y T4 es la salida:",
      "block_group": "e8482b4b91d044b6b2c8858ac555bf42"
    },
    {
      "cell_type": "code",
      "metadata": {
        "source_hash": "799afb5d",
        "execution_start": 1750012660986,
        "execution_millis": 0,
        "execution_context_id": "df393179-1241-4d96-a329-c14b453c2db1",
        "deepnote_to_be_reexecuted": true,
        "cell_id": "78702d6391d5453ab34394f87d406b3c",
        "deepnote_cell_type": "code"
      },
      "source": "def get_ruido(matriz_transicion, vector_estacionario):\n    # Hcond = H(Y/X)\n    return round(get_entropia_con_memoria(matriz_transicion, vector_estacionario), 3)\n\nruido_canal_compuesto = get_ruido(canal_compuesto, vector_estacionario_melbourne)\nprint(\"Ruido para Melbourne ruidoso: \", ruido_canal_compuesto)",
      "block_group": "45baf35c2028472192167c585f122055",
      "execution_count": 31,
      "outputs": [
        {
          "name": "stdout",
          "text": "Ruido para Melbourne ruidoso:  1.246\n",
          "output_type": "stream"
        }
      ],
      "outputs_reference": null,
      "content_dependencies": null
    },
    {
      "cell_type": "code",
      "metadata": {
        "source_hash": "7572145f",
        "execution_start": 1750012661046,
        "execution_millis": 0,
        "execution_context_id": "df393179-1241-4d96-a329-c14b453c2db1",
        "deepnote_to_be_reexecuted": true,
        "cell_id": "eda5337d5987484681edfb8ddc457213",
        "deepnote_cell_type": "code"
      },
      "source": "def get_distribucion_salida(matriz_conjunta, orden=3):\n\n    # Arreglo de salida, lleno de ceros.\n    out = np.zeros(orden)\n\n    for i in range(orden):\n        for j in range(orden):\n            # Se suman las filas.\n            out[i] += matriz_conjunta[i][j]\n\n    return out.round(3)\n\n# I(X,Y) = H(Y) - H(Y/X)\ninformacion_mutua = round(get_entropia_sin_memoria(get_distribucion_salida(get_matriz_conjunta(canal_compuesto, vector_estacionario_melbourne))) - ruido_canal_compuesto, 3)\nprint(\"Información mutua del canal compuesto: \", informacion_mutua)",
      "block_group": "0cbb5983e84e4153add8cc3d9657e277",
      "execution_count": 32,
      "outputs": [
        {
          "name": "stdout",
          "text": "Información mutua del canal compuesto:  0.066\n",
          "output_type": "stream"
        }
      ],
      "outputs_reference": null,
      "content_dependencies": null
    },
    {
      "cell_type": "code",
      "metadata": {
        "source_hash": "86019708",
        "execution_start": 1750012661106,
        "execution_millis": 0,
        "execution_context_id": "df393179-1241-4d96-a329-c14b453c2db1",
        "deepnote_to_be_reexecuted": true,
        "cell_id": "fd09407b70604ab7a238c228e3cf6980",
        "deepnote_cell_type": "code"
      },
      "source": "# Conjunta de Quito.\nprint(\"\\nConjunta de Quito:\")\nprint(get_matriz_conjunta(matriz_transicion_quito, vector_estacionario_quito))\n# Conjunta de Melbourne.\nprint(\"\\nConjunta de Melbourne:\")\nprint(get_matriz_conjunta(matriz_transicion_melbourne, vector_estacionario_melbourne))\n# Conjunta de Oslo.\nprint(\"\\nConjunta de Oslo:\")\nprint(get_matriz_conjunta(matriz_transicion_oslo, vector_estacionario_oslo))",
      "block_group": "ee2c00871cd948fc9fdc75292bbf5337",
      "execution_count": 33,
      "outputs": [
        {
          "name": "stdout",
          "text": "\nConjunta de Quito:\n[[0.    0.006 0.   ]\n [0.006 0.986 0.001]\n [0.    0.001 0.   ]]\n\nConjunta de Melbourne:\n[[0.015 0.016 0.   ]\n [0.016 0.426 0.067]\n [0.    0.067 0.393]]\n\nConjunta de Oslo:\n[[0.655 0.028 0.   ]\n [0.028 0.245 0.01 ]\n [0.    0.01  0.024]]\n",
          "output_type": "stream"
        }
      ],
      "outputs_reference": null,
      "content_dependencies": null
    },
    {
      "cell_type": "markdown",
      "source": "<a style='text-decoration:none;line-height:16px;display:flex;color:#5B5B62;padding:10px;justify-content:end;' href='https://deepnote.com?utm_source=created-in-deepnote-cell&projectId=1ebd8bcc-2607-4fac-b013-6f5656f47292' target=\"_blank\">\n<img alt='Created in deepnote.com' style='display:inline;max-height:16px;margin:0px;margin-right:7.5px;' src='data:image/svg+xml;base64,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' > </img>\nCreated in <span style='font-weight:600;margin-left:4px;'>Deepnote</span></a>",
      "metadata": {
        "created_in_deepnote_cell": true,
        "deepnote_cell_type": "markdown"
      }
    }
  ],
  "nbformat": 4,
  "nbformat_minor": 0,
  "metadata": {
    "deepnote_notebook_id": "8116a65b5b4843369439dfa17c507a8b"
  }
}